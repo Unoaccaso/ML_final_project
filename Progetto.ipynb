{
  "nbformat": 4,
  "nbformat_minor": 0,
  "metadata": {
    "colab": {
      "name": "Progetto.ipynb",
      "provenance": [],
      "collapsed_sections": [],
      "include_colab_link": true
    },
    "kernelspec": {
      "name": "python3",
      "display_name": "Python 3"
    },
    "accelerator": "GPU"
  },
  "cells": [
    {
      "cell_type": "markdown",
      "metadata": {
        "id": "view-in-github",
        "colab_type": "text"
      },
      "source": [
        "<a href=\"https://colab.research.google.com/github/Unoaccaso/ML_final_project/blob/master/Progetto.ipynb\" target=\"_parent\"><img src=\"https://colab.research.google.com/assets/colab-badge.svg\" alt=\"Open In Colab\"/></a>"
      ]
    },
    {
      "cell_type": "code",
      "metadata": {
        "id": "J-0BdvRzLo91",
        "colab_type": "code",
        "outputId": "7e2ca616-bd8c-43d8-9028-cf7a4eb136c2",
        "colab": {
          "base_uri": "https://localhost:8080/",
          "height": 564
        }
      },
      "source": [
        "!rm -rf * # warning\n",
        "!wget https://www.dropbox.com/s/grorylbv44zm4na/beta-beta-decay-identification.zip?dl=1 -O archive.zip\n",
        "!unzip archive.zip\n",
        "!7z x beta-beta-decay-identification/data_train.csv.zip -so > data_train.csv\n",
        "!7z x beta-beta-decay-identification/labels_train.csv.zip -so > labels_train.csv\n",
        "!rm -rf __MACOSX beta-beta-decay-identification archive.zip"
      ],
      "execution_count": 1,
      "outputs": [
        {
          "output_type": "stream",
          "text": [
            "--2020-06-10 19:56:00--  https://www.dropbox.com/s/grorylbv44zm4na/beta-beta-decay-identification.zip?dl=1\n",
            "Resolving www.dropbox.com (www.dropbox.com)... 162.125.67.1, 2620:100:6023:1::a27d:4301\n",
            "Connecting to www.dropbox.com (www.dropbox.com)|162.125.67.1|:443... connected.\n",
            "HTTP request sent, awaiting response... 301 Moved Permanently\n",
            "Location: /s/dl/grorylbv44zm4na/beta-beta-decay-identification.zip [following]\n",
            "--2020-06-10 19:56:00--  https://www.dropbox.com/s/dl/grorylbv44zm4na/beta-beta-decay-identification.zip\n",
            "Reusing existing connection to www.dropbox.com:443.\n",
            "HTTP request sent, awaiting response... 302 Found\n",
            "Location: https://uc6aa842c71144d4fa63f6025847.dl.dropboxusercontent.com/cd/0/get/A5ZLw3hrNWCAzUfY3J47smDPWulMObKeT-9yssGMOPSI5rJ_o-5W5_FzzFPZkefXmH6OXmcFXS6YhnhAYrvaddvm7AOjQi8pe-z7P1l1mrX711ufnDQcyqVCcjK5cGtU6G8/file?dl=1# [following]\n",
            "--2020-06-10 19:56:01--  https://uc6aa842c71144d4fa63f6025847.dl.dropboxusercontent.com/cd/0/get/A5ZLw3hrNWCAzUfY3J47smDPWulMObKeT-9yssGMOPSI5rJ_o-5W5_FzzFPZkefXmH6OXmcFXS6YhnhAYrvaddvm7AOjQi8pe-z7P1l1mrX711ufnDQcyqVCcjK5cGtU6G8/file?dl=1\n",
            "Resolving uc6aa842c71144d4fa63f6025847.dl.dropboxusercontent.com (uc6aa842c71144d4fa63f6025847.dl.dropboxusercontent.com)... 162.125.67.15, 2620:100:6023:15::a27d:430f\n",
            "Connecting to uc6aa842c71144d4fa63f6025847.dl.dropboxusercontent.com (uc6aa842c71144d4fa63f6025847.dl.dropboxusercontent.com)|162.125.67.15|:443... connected.\n",
            "HTTP request sent, awaiting response... 200 OK\n",
            "Length: 191145855 (182M) [application/binary]\n",
            "Saving to: ‘archive.zip’\n",
            "\n",
            "archive.zip         100%[===================>] 182.29M  17.7MB/s    in 10s     \n",
            "\n",
            "2020-06-10 19:56:12 (17.7 MB/s) - ‘archive.zip’ saved [191145855/191145855]\n",
            "\n",
            "Archive:  archive.zip\n",
            "   creating: beta-beta-decay-identification/\n",
            "  inflating: __MACOSX/._beta-beta-decay-identification  \n",
            "  inflating: beta-beta-decay-identification/Utility.ipynb  \n",
            "  inflating: __MACOSX/beta-beta-decay-identification/._Utility.ipynb  \n",
            "  inflating: beta-beta-decay-identification/.DS_Store  \n",
            "  inflating: __MACOSX/beta-beta-decay-identification/._.DS_Store  \n",
            "  inflating: beta-beta-decay-identification/data_train.csv.zip  \n",
            "  inflating: __MACOSX/beta-beta-decay-identification/._data_train.csv.zip  \n",
            "  inflating: beta-beta-decay-identification/labels_train.csv.zip  \n",
            "  inflating: __MACOSX/beta-beta-decay-identification/._labels_train.csv.zip  \n"
          ],
          "name": "stdout"
        }
      ]
    },
    {
      "cell_type": "code",
      "metadata": {
        "id": "M0uULBhqT1Ox",
        "colab_type": "code",
        "colab": {}
      },
      "source": [
        "import numpy as np\n",
        "import pandas as pd\n",
        "from sklearn.decomposition import PCA\n",
        "from sklearn.manifold import TSNE\n",
        "import matplotlib.pyplot as plt\n",
        "from time import time\n",
        "\n",
        "from IPython.display import HTML, display\n",
        "import time\n",
        "\n",
        "def progress(value, max=100):\n",
        "    return HTML(\"\"\"\n",
        "        <progress\n",
        "            value='{value}'\n",
        "            max='{max}',\n",
        "            style='width: 100%'\n",
        "        >\n",
        "            {value}\n",
        "        </progress>\n",
        "    \"\"\".format(value=value, max=max))"
      ],
      "execution_count": 0,
      "outputs": []
    },
    {
      "cell_type": "code",
      "metadata": {
        "id": "llwpE3YtT6jJ",
        "colab_type": "code",
        "colab": {}
      },
      "source": [
        "data_train = pd.read_csv('data_train.csv')\n",
        "labels_train = pd.read_csv('labels_train.csv')"
      ],
      "execution_count": 0,
      "outputs": []
    },
    {
      "cell_type": "code",
      "metadata": {
        "id": "huIaOKr8Uop2",
        "colab_type": "code",
        "colab": {}
      },
      "source": [
        "def create_images(data, n_theta_bins=10, n_phi_bins=20, n_time_bins=6):\n",
        "    labels = []\n",
        "    images = []\n",
        "    event_indexes = {}\n",
        "    event_ids = np.unique(data['EventID'].values)\n",
        "    \n",
        "    # collect event indexes\n",
        "    data_event_ids = data['EventID'].values\n",
        "    for i in range(len(data)):\n",
        "        i_event = data_event_ids[i]\n",
        "        if i_event in event_indexes:\n",
        "            event_indexes[i_event].append(i)\n",
        "        else:\n",
        "            event_indexes[i_event] = [i]\n",
        "            \n",
        "    # create images\n",
        "    out = display(progress(0, event_ids.shape[0]), display_id=True)\n",
        "    for i, i_event in enumerate(event_ids):\n",
        "        event = data.iloc[event_indexes[i_event]]\n",
        "        X = event[['Theta', 'Phi', 'Time']].values\n",
        "        one_image, edges = np.histogramdd(X, \n",
        "                                          bins=(n_theta_bins, n_phi_bins, n_time_bins))\n",
        "        images.append(one_image)\n",
        "        label = labels_train[labels_train[\"EventID\"]==i_event][\"Label\"].values[0]\n",
        "        labels.append(label)\n",
        "        out.update(progress(i, event_ids.shape[0]))\n",
        "    return (np.array(images), np.array(labels))"
      ],
      "execution_count": 0,
      "outputs": []
    },
    {
      "cell_type": "code",
      "metadata": {
        "id": "RhSdAGpIWEJq",
        "colab_type": "code",
        "colab": {
          "base_uri": "https://localhost:8080/",
          "height": 34
        },
        "outputId": "0021d01c-cc76-4cdb-9b28-7a954a3825a0"
      },
      "source": [
        "images, labels = create_images(data_train,\n",
        "                               n_theta_bins=10, \n",
        "                               n_phi_bins=20, \n",
        "                               n_time_bins=6)"
      ],
      "execution_count": 37,
      "outputs": [
        {
          "output_type": "display_data",
          "data": {
            "text/html": [
              "\n",
              "        <progress\n",
              "            value='79999'\n",
              "            max='80000',\n",
              "            style='width: 100%'\n",
              "        >\n",
              "            79999\n",
              "        </progress>\n",
              "    "
            ],
            "text/plain": [
              "<IPython.core.display.HTML object>"
            ]
          },
          "metadata": {
            "tags": []
          }
        }
      ]
    },
    {
      "cell_type": "code",
      "metadata": {
        "id": "YbhaS6uhUeKN",
        "colab_type": "code",
        "outputId": "4e5a6b27-8a78-4deb-bfdf-34f485773c28",
        "colab": {
          "base_uri": "https://localhost:8080/",
          "height": 51
        }
      },
      "source": [
        "print(images.shape)\n",
        "print(labels.shape)"
      ],
      "execution_count": 38,
      "outputs": [
        {
          "output_type": "stream",
          "text": [
            "(80000, 10, 20, 6)\n",
            "(80000,)\n"
          ],
          "name": "stdout"
        }
      ]
    },
    {
      "cell_type": "markdown",
      "metadata": {
        "id": "XF--OclQRDCm",
        "colab_type": "text"
      },
      "source": [
        "# Data manipulation"
      ]
    },
    {
      "cell_type": "code",
      "metadata": {
        "id": "g0hwCNjCRKhe",
        "colab_type": "code",
        "outputId": "7b45699e-e271-4259-8ea2-f88050ded641",
        "colab": {
          "base_uri": "https://localhost:8080/",
          "height": 271
        }
      },
      "source": [
        "signal = images[labels == 1]\n",
        "background = images[labels == 0]\n",
        "\n",
        "sig = np.random.randint(0, signal.shape[0])\n",
        "back = np.random.randint(0, background.shape[0])\n",
        "\n",
        "plt.figure(figsize=(20, 10))\n",
        "for i in range(6):\n",
        "  plt.subplot(1, 6, i+1)\n",
        "  plt.imshow(signal[sig][:, :, i])\n",
        "  plt.title(f'signal deltaT{i+1}')\n",
        "plt.show()\n",
        "plt.figure(figsize=(20, 10))\n",
        "for i in range(6):\n",
        "  plt.subplot(1, 6, i+1)\n",
        "  plt.imshow(background[back][:, :, i])\n",
        "  plt.title(f'background deltaT{i+1}')\n",
        "plt.show()"
      ],
      "execution_count": 39,
      "outputs": [
        {
          "output_type": "display_data",
          "data": {
            "image/png": "[encoded data removed]",
            "text/plain": [
              "<Figure size 1440x720 with 6 Axes>"
            ]
          },
          "metadata": {
            "tags": [],
            "needs_background": "light"
          }
        },
        {
          "output_type": "display_data",
          "data": {
            "image/png": "[encoded data removed]",
            "text/plain": [
              "<Figure size 1440x720 with 6 Axes>"
            ]
          },
          "metadata": {
            "tags": [],
            "needs_background": "light"
          }
        }
      ]
    },
    {
      "cell_type": "markdown",
      "metadata": {
        "id": "DgHBipXxRHht",
        "colab_type": "text"
      },
      "source": [
        "# NN training"
      ]
    },
    {
      "cell_type": "code",
      "metadata": {
        "id": "DRa_7ak-ie4V",
        "colab_type": "code",
        "colab": {}
      },
      "source": [
        "from sklearn.model_selection import train_test_split\n",
        "(X_train, X_test, Y_train, Y_test) = train_test_split(images, labels, test_size=0.1)"
      ],
      "execution_count": 0,
      "outputs": []
    },
    {
      "cell_type": "code",
      "metadata": {
        "id": "1HNW4jQof3gs",
        "colab_type": "code",
        "colab": {}
      },
      "source": [
        "import tensorflow as tf\n",
        "import tensorflow.keras as keras\n",
        "import tensorflow.keras.layers as layers"
      ],
      "execution_count": 0,
      "outputs": []
    },
    {
      "cell_type": "code",
      "metadata": {
        "id": "s54cJs52NuPA",
        "colab_type": "code",
        "outputId": "c889095a-4ff6-4bee-bcd7-d26a6c46885b",
        "colab": {
          "base_uri": "https://localhost:8080/",
          "height": 51
        }
      },
      "source": [
        "print(X_train.shape)\n",
        "print(Y_train.shape)"
      ],
      "execution_count": 42,
      "outputs": [
        {
          "output_type": "stream",
          "text": [
            "(72000, 10, 20, 6)\n",
            "(72000,)\n"
          ],
          "name": "stdout"
        }
      ]
    },
    {
      "cell_type": "code",
      "metadata": {
        "id": "VhqGaI0ijHQA",
        "colab_type": "code",
        "outputId": "9137fdcd-8542-4351-b473-8ffb7e07e7d4",
        "colab": {
          "base_uri": "https://localhost:8080/",
          "height": 935
        }
      },
      "source": [
        "IMG_SHAPE = (10, 20, 6)\n",
        "\n",
        "img_input = keras.Input(shape=IMG_SHAPE, name=\"D_Image_Input\")\n",
        "x = img_input\n",
        "\n",
        "# primo blocco Convoluzionale\n",
        "x = keras.layers.Conv2D(filters=32, kernel_size=(3, 5),name='Conv_1')(x)\n",
        "x = keras.layers.BatchNormalization()(x)\n",
        "x = keras.layers.ReLU(name='ReLU_1')(x)\n",
        "x = layers.Dropout(0.1, name=\"DropOut_1\")(x)\n",
        "#x = keras.layers.MaxPool2D((2,2), name='MaxPool_1', padding='same')(x)\n",
        "\n",
        "# secondo blocco Convoluzionale\n",
        "x = keras.layers.Conv2D(filters=64, kernel_size=(3, 4), name='Conv_2')(x)\n",
        "x = keras.layers.BatchNormalization()(x)\n",
        "x = keras.layers.ReLU(name='ReLU_2')(x)\n",
        "x = keras.layers.MaxPool2D((2,2), name='MaxPool_2', padding='same')(x)\n",
        "x = layers.Dropout(0.1, name=\"DropOut_2\")(x)\n",
        "\n",
        "# terzo blocco Convoluzionale\n",
        "x = keras.layers.Conv2D(filters=64, kernel_size=(2, 3), name='Conv_3')(x)\n",
        "x = keras.layers.BatchNormalization()(x)\n",
        "x = keras.layers.ReLU(name='ReLU_3')(x)\n",
        "x = keras.layers.MaxPool2D((2,2), name='MaxPool_1', padding='same')(x)\n",
        "x = layers.Dropout(0.12, name=\"DropOut_3\")(x)\n",
        "\n",
        "x = keras.layers.Flatten(name='Flatten')(x)\n",
        "\n",
        "# layer densi\n",
        "x = keras.layers.Dense(128, name='Dense_1')(x)\n",
        "x = layers.Dropout(0.2, name=\"DropOut_4\")(x)\n",
        "x = keras.layers.ReLU(name='ReLU_dense_1')(x)\n",
        "\n",
        "x = keras.layers.Dense(256, name='Dense_2')(x)\n",
        "x = layers.Dropout(0.2, name=\"DropOut_5\")(x)\n",
        "x = keras.layers.ReLU(name='ReLU_dense_2')(x)\n",
        "\n",
        "outputs = keras.layers.Dense(1, activation='sigmoid', name='Output')(x)\n",
        "\n",
        "model = keras.Model(inputs=img_input, outputs=outputs, name='predictor')\n",
        "\n",
        "#printout il summary del modello\n",
        "model.summary()"
      ],
      "execution_count": 240,
      "outputs": [
        {
          "output_type": "stream",
          "text": [
            "Model: \"predictor\"\n",
            "_________________________________________________________________\n",
            "Layer (type)                 Output Shape              Param #   \n",
            "=================================================================\n",
            "D_Image_Input (InputLayer)   [(None, 10, 20, 6)]       0         \n",
            "_________________________________________________________________\n",
            "Conv_1 (Conv2D)              (None, 8, 16, 32)         2912      \n",
            "_________________________________________________________________\n",
            "batch_normalization_176 (Bat (None, 8, 16, 32)         128       \n",
            "_________________________________________________________________\n",
            "ReLU_1 (ReLU)                (None, 8, 16, 32)         0         \n",
            "_________________________________________________________________\n",
            "DropOut_1 (Dropout)          (None, 8, 16, 32)         0         \n",
            "_________________________________________________________________\n",
            "Conv_2 (Conv2D)              (None, 6, 13, 64)         24640     \n",
            "_________________________________________________________________\n",
            "batch_normalization_177 (Bat (None, 6, 13, 64)         256       \n",
            "_________________________________________________________________\n",
            "ReLU_2 (ReLU)                (None, 6, 13, 64)         0         \n",
            "_________________________________________________________________\n",
            "MaxPool_2 (MaxPooling2D)     (None, 3, 7, 64)          0         \n",
            "_________________________________________________________________\n",
            "DropOut_2 (Dropout)          (None, 3, 7, 64)          0         \n",
            "_________________________________________________________________\n",
            "Conv_3 (Conv2D)              (None, 2, 5, 64)          24640     \n",
            "_________________________________________________________________\n",
            "batch_normalization_178 (Bat (None, 2, 5, 64)          256       \n",
            "_________________________________________________________________\n",
            "ReLU_3 (ReLU)                (None, 2, 5, 64)          0         \n",
            "_________________________________________________________________\n",
            "MaxPool_1 (MaxPooling2D)     (None, 1, 3, 64)          0         \n",
            "_________________________________________________________________\n",
            "DropOut_3 (Dropout)          (None, 1, 3, 64)          0         \n",
            "_________________________________________________________________\n",
            "Flatten (Flatten)            (None, 192)               0         \n",
            "_________________________________________________________________\n",
            "Dense_1 (Dense)              (None, 128)               24704     \n",
            "_________________________________________________________________\n",
            "DropOut_4 (Dropout)          (None, 128)               0         \n",
            "_________________________________________________________________\n",
            "ReLU_dense_1 (ReLU)          (None, 128)               0         \n",
            "_________________________________________________________________\n",
            "Dense_2 (Dense)              (None, 256)               33024     \n",
            "_________________________________________________________________\n",
            "DropOut_5 (Dropout)          (None, 256)               0         \n",
            "_________________________________________________________________\n",
            "ReLU_dense_2 (ReLU)          (None, 256)               0         \n",
            "_________________________________________________________________\n",
            "Output (Dense)               (None, 1)                 257       \n",
            "=================================================================\n",
            "Total params: 110,817\n",
            "Trainable params: 110,497\n",
            "Non-trainable params: 320\n",
            "_________________________________________________________________\n"
          ],
          "name": "stdout"
        }
      ]
    },
    {
      "cell_type": "code",
      "metadata": {
        "id": "9NcuImmijsQB",
        "colab_type": "code",
        "outputId": "ed62d419-04bb-4311-bdd1-cc6523820a1e",
        "colab": {
          "base_uri": "https://localhost:8080/",
          "height": 1000
        }
      },
      "source": [
        "model_checkpoint = keras.callbacks.ModelCheckpoint(\n",
        "        filepath='cnn_best',\n",
        "        monitor='val_accuracy',\n",
        "        save_weights_only=True, \n",
        "        save_best_only=True,\n",
        "        save_freq='epoch')\n",
        "\n",
        "# metto tutte le callback in una lista\n",
        "callbacks = [ model_checkpoint ]     \n",
        "\n",
        "model.compile(loss=\"binary_crossentropy\", optimizer='adam', metrics=[\"accuracy\"])\n",
        "history = model.fit(X_train, Y_train, validation_split=0.1, batch_size=256, \n",
        "          epochs=30, shuffle=True, verbose=1, callbacks=callbacks)"
      ],
      "execution_count": 241,
      "outputs": [
        {
          "output_type": "stream",
          "text": [
            "Epoch 1/30\n",
            "254/254 [==============================] - 4s 15ms/step - loss: 0.5962 - accuracy: 0.6788 - val_loss: 0.5617 - val_accuracy: 0.7358\n",
            "Epoch 2/30\n",
            "254/254 [==============================] - 4s 14ms/step - loss: 0.5350 - accuracy: 0.7346 - val_loss: 0.5297 - val_accuracy: 0.7369\n",
            "Epoch 3/30\n",
            "254/254 [==============================] - 3s 13ms/step - loss: 0.5175 - accuracy: 0.7474 - val_loss: 0.5012 - val_accuracy: 0.7564\n",
            "Epoch 4/30\n",
            "254/254 [==============================] - 3s 13ms/step - loss: 0.5052 - accuracy: 0.7567 - val_loss: 0.5109 - val_accuracy: 0.7487\n",
            "Epoch 5/30\n",
            "254/254 [==============================] - 3s 13ms/step - loss: 0.4957 - accuracy: 0.7635 - val_loss: 0.4905 - val_accuracy: 0.7646\n",
            "Epoch 6/30\n",
            "254/254 [==============================] - 3s 14ms/step - loss: 0.4883 - accuracy: 0.7671 - val_loss: 0.4886 - val_accuracy: 0.7685\n",
            "Epoch 7/30\n",
            "254/254 [==============================] - 3s 13ms/step - loss: 0.4796 - accuracy: 0.7741 - val_loss: 0.5030 - val_accuracy: 0.7625\n",
            "Epoch 8/30\n",
            "254/254 [==============================] - 3s 13ms/step - loss: 0.4723 - accuracy: 0.7790 - val_loss: 0.4993 - val_accuracy: 0.7697\n",
            "Epoch 9/30\n",
            "254/254 [==============================] - 3s 14ms/step - loss: 0.4635 - accuracy: 0.7837 - val_loss: 0.5046 - val_accuracy: 0.7603\n",
            "Epoch 10/30\n",
            "254/254 [==============================] - 3s 14ms/step - loss: 0.4556 - accuracy: 0.7886 - val_loss: 0.4825 - val_accuracy: 0.7710\n",
            "Epoch 11/30\n",
            "254/254 [==============================] - 3s 13ms/step - loss: 0.4477 - accuracy: 0.7956 - val_loss: 0.4994 - val_accuracy: 0.7681\n",
            "Epoch 12/30\n",
            "254/254 [==============================] - 3s 14ms/step - loss: 0.4425 - accuracy: 0.7958 - val_loss: 0.4808 - val_accuracy: 0.7732\n",
            "Epoch 13/30\n",
            "254/254 [==============================] - 3s 13ms/step - loss: 0.4353 - accuracy: 0.8013 - val_loss: 0.5066 - val_accuracy: 0.7633\n",
            "Epoch 14/30\n",
            "254/254 [==============================] - 3s 14ms/step - loss: 0.4287 - accuracy: 0.8075 - val_loss: 0.4855 - val_accuracy: 0.7738\n",
            "Epoch 15/30\n",
            "254/254 [==============================] - 3s 13ms/step - loss: 0.4216 - accuracy: 0.8087 - val_loss: 0.5264 - val_accuracy: 0.7624\n",
            "Epoch 16/30\n",
            "254/254 [==============================] - 3s 13ms/step - loss: 0.4137 - accuracy: 0.8138 - val_loss: 0.5011 - val_accuracy: 0.7611\n",
            "Epoch 17/30\n",
            "254/254 [==============================] - 3s 14ms/step - loss: 0.4100 - accuracy: 0.8148 - val_loss: 0.4971 - val_accuracy: 0.7722\n",
            "Epoch 18/30\n",
            "254/254 [==============================] - 3s 13ms/step - loss: 0.4037 - accuracy: 0.8189 - val_loss: 0.5035 - val_accuracy: 0.7728\n",
            "Epoch 19/30\n",
            "254/254 [==============================] - 3s 14ms/step - loss: 0.4003 - accuracy: 0.8184 - val_loss: 0.5311 - val_accuracy: 0.7607\n",
            "Epoch 20/30\n",
            "254/254 [==============================] - 3s 14ms/step - loss: 0.3954 - accuracy: 0.8242 - val_loss: 0.4932 - val_accuracy: 0.7740\n",
            "Epoch 21/30\n",
            "254/254 [==============================] - 3s 13ms/step - loss: 0.3888 - accuracy: 0.8263 - val_loss: 0.6443 - val_accuracy: 0.7174\n",
            "Epoch 22/30\n",
            "254/254 [==============================] - 3s 14ms/step - loss: 0.3854 - accuracy: 0.8286 - val_loss: 0.5109 - val_accuracy: 0.7561\n",
            "Epoch 23/30\n",
            "254/254 [==============================] - 3s 14ms/step - loss: 0.3819 - accuracy: 0.8302 - val_loss: 0.5272 - val_accuracy: 0.7617\n",
            "Epoch 24/30\n",
            "254/254 [==============================] - 3s 13ms/step - loss: 0.3749 - accuracy: 0.8347 - val_loss: 0.5162 - val_accuracy: 0.7649\n",
            "Epoch 25/30\n",
            "254/254 [==============================] - 3s 13ms/step - loss: 0.3703 - accuracy: 0.8363 - val_loss: 0.5126 - val_accuracy: 0.7663\n",
            "Epoch 26/30\n",
            "254/254 [==============================] - 3s 14ms/step - loss: 0.3691 - accuracy: 0.8371 - val_loss: 0.5078 - val_accuracy: 0.7676\n",
            "Epoch 27/30\n",
            "254/254 [==============================] - 3s 14ms/step - loss: 0.3639 - accuracy: 0.8395 - val_loss: 0.5111 - val_accuracy: 0.7646\n",
            "Epoch 28/30\n",
            "254/254 [==============================] - 3s 13ms/step - loss: 0.3599 - accuracy: 0.8415 - val_loss: 0.5207 - val_accuracy: 0.7649\n",
            "Epoch 29/30\n",
            "254/254 [==============================] - 3s 13ms/step - loss: 0.3558 - accuracy: 0.8433 - val_loss: 0.5072 - val_accuracy: 0.7713\n",
            "Epoch 30/30\n",
            "254/254 [==============================] - 3s 13ms/step - loss: 0.3526 - accuracy: 0.8452 - val_loss: 0.5075 - val_accuracy: 0.7679\n"
          ],
          "name": "stdout"
        }
      ]
    },
    {
      "cell_type": "code",
      "metadata": {
        "id": "LKPxyogFkLrY",
        "colab_type": "code",
        "outputId": "9c10d515-2ac3-4242-bcba-3cc99097dd80",
        "colab": {
          "base_uri": "https://localhost:8080/",
          "height": 478
        }
      },
      "source": [
        "accuracy=history.history['accuracy']\n",
        "val_accuracy=history.history['val_accuracy']\n",
        "\n",
        "epochs_range = range(1, len(accuracy) + 1)\n",
        "\n",
        "plt.figure(figsize=(10, 7))\n",
        "plt.subplot(1, 2, 2)\n",
        "plt.plot(epochs_range, accuracy, label='Training accuracy')\n",
        "plt.plot(epochs_range, val_accuracy, label='Validation accuracy')\n",
        "plt.legend(loc='upper right')\n",
        "plt.title('Training and Validation Loss')\n",
        "plt.show()\n",
        "\n",
        "model.load_weights('cnn_best')\n",
        "vali_loss, vali_acc = model.evaluate(X_test, Y_test, verbose=0)\n",
        "print(f'\\nacc:{vali_acc}')"
      ],
      "execution_count": 242,
      "outputs": [
        {
          "output_type": "display_data",
          "data": {
            "image/png": "[encoded data removed]",
            "text/plain": [
              "<Figure size 720x504 with 1 Axes>"
            ]
          },
          "metadata": {
            "tags": [],
            "needs_background": "light"
          }
        },
        {
          "output_type": "stream",
          "text": [
            "\n",
            "acc:0.7736250162124634\n"
          ],
          "name": "stdout"
        }
      ]
    }
  ]
}