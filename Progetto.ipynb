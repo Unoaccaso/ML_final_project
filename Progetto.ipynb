{
  "nbformat": 4,
  "nbformat_minor": 0,
  "metadata": {
    "colab": {
      "name": "Progetto.ipynb",
      "provenance": [],
      "collapsed_sections": [],
      "include_colab_link": true
    },
    "kernelspec": {
      "name": "python3",
      "display_name": "Python 3"
    },
    "accelerator": "GPU"
  },
  "cells": [
    {
      "cell_type": "markdown",
      "metadata": {
        "id": "view-in-github",
        "colab_type": "text"
      },
      "source": [
        "<a href=\"https://colab.research.google.com/github/Unoaccaso/ML_final_project/blob/master/Progetto.ipynb\" target=\"_parent\"><img src=\"https://colab.research.google.com/assets/colab-badge.svg\" alt=\"Open In Colab\"/></a>"
      ]
    },
    {
      "cell_type": "code",
      "metadata": {
        "id": "J-0BdvRzLo91",
        "colab_type": "code",
        "colab": {
          "base_uri": "https://localhost:8080/",
          "height": 564
        },
        "outputId": "b338d0b5-0509-4fbe-fba2-a49e0912dff5"
      },
      "source": [
        "!rm -rf * # warning\n",
        "!wget https://www.dropbox.com/s/grorylbv44zm4na/beta-beta-decay-identification.zip?dl=1 -O archive.zip\n",
        "!unzip archive.zip\n",
        "!7z x beta-beta-decay-identification/data_train.csv.zip -so > data_train.csv\n",
        "!7z x beta-beta-decay-identification/labels_train.csv.zip -so > labels_train.csv\n",
        "!rm -rf __MACOSX beta-beta-decay-identification archive.zip"
      ],
      "execution_count": 93,
      "outputs": [
        {
          "output_type": "stream",
          "text": [
            "--2020-06-10 18:46:03--  https://www.dropbox.com/s/grorylbv44zm4na/beta-beta-decay-identification.zip?dl=1\n",
            "Resolving www.dropbox.com (www.dropbox.com)... 162.125.1.1, 2620:100:6016:1::a27d:101\n",
            "Connecting to www.dropbox.com (www.dropbox.com)|162.125.1.1|:443... connected.\n",
            "HTTP request sent, awaiting response... 301 Moved Permanently\n",
            "Location: /s/dl/grorylbv44zm4na/beta-beta-decay-identification.zip [following]\n",
            "--2020-06-10 18:46:03--  https://www.dropbox.com/s/dl/grorylbv44zm4na/beta-beta-decay-identification.zip\n",
            "Reusing existing connection to www.dropbox.com:443.\n",
            "HTTP request sent, awaiting response... 302 Found\n",
            "Location: https://uc43db618a78b5eba7661b6ce844.dl.dropboxusercontent.com/cd/0/get/A5ZuDG7gZvHXIu0QRaY7GFe1Tm2638D_nX5pD-njeV3gwDzvKzrxsy0-lU4dEqbe2QuIV8NQJqj6FWRqgzlQWXllj020MMyuZQayGhe5f-xfCPDKh_VYfDgQNFS3g6W1QF0/file?dl=1# [following]\n",
            "--2020-06-10 18:46:03--  https://uc43db618a78b5eba7661b6ce844.dl.dropboxusercontent.com/cd/0/get/A5ZuDG7gZvHXIu0QRaY7GFe1Tm2638D_nX5pD-njeV3gwDzvKzrxsy0-lU4dEqbe2QuIV8NQJqj6FWRqgzlQWXllj020MMyuZQayGhe5f-xfCPDKh_VYfDgQNFS3g6W1QF0/file?dl=1\n",
            "Resolving uc43db618a78b5eba7661b6ce844.dl.dropboxusercontent.com (uc43db618a78b5eba7661b6ce844.dl.dropboxusercontent.com)... 162.125.1.15, 2620:100:6016:15::a27d:10f\n",
            "Connecting to uc43db618a78b5eba7661b6ce844.dl.dropboxusercontent.com (uc43db618a78b5eba7661b6ce844.dl.dropboxusercontent.com)|162.125.1.15|:443... connected.\n",
            "HTTP request sent, awaiting response... 200 OK\n",
            "Length: 191145855 (182M) [application/binary]\n",
            "Saving to: ‘archive.zip’\n",
            "\n",
            "archive.zip         100%[===================>] 182.29M  45.3MB/s    in 3.9s    \n",
            "\n",
            "2020-06-10 18:46:08 (47.1 MB/s) - ‘archive.zip’ saved [191145855/191145855]\n",
            "\n",
            "Archive:  archive.zip\n",
            "   creating: beta-beta-decay-identification/\n",
            "  inflating: __MACOSX/._beta-beta-decay-identification  \n",
            "  inflating: beta-beta-decay-identification/Utility.ipynb  \n",
            "  inflating: __MACOSX/beta-beta-decay-identification/._Utility.ipynb  \n",
            "  inflating: beta-beta-decay-identification/.DS_Store  \n",
            "  inflating: __MACOSX/beta-beta-decay-identification/._.DS_Store  \n",
            "  inflating: beta-beta-decay-identification/data_train.csv.zip  \n",
            "  inflating: __MACOSX/beta-beta-decay-identification/._data_train.csv.zip  \n",
            "  inflating: beta-beta-decay-identification/labels_train.csv.zip  \n",
            "  inflating: __MACOSX/beta-beta-decay-identification/._labels_train.csv.zip  \n"
          ],
          "name": "stdout"
        }
      ]
    },
    {
      "cell_type": "code",
      "metadata": {
        "id": "M0uULBhqT1Ox",
        "colab_type": "code",
        "colab": {}
      },
      "source": [
        "import numpy as np\n",
        "import pandas as pd\n",
        "from sklearn.decomposition import PCA\n",
        "from sklearn.manifold import TSNE\n",
        "import matplotlib.pyplot as plt\n",
        "from time import time"
      ],
      "execution_count": 0,
      "outputs": []
    },
    {
      "cell_type": "code",
      "metadata": {
        "id": "llwpE3YtT6jJ",
        "colab_type": "code",
        "colab": {}
      },
      "source": [
        "data_train = pd.read_csv('data_train.csv')\n",
        "labels_train = pd.read_csv('labels_train.csv')"
      ],
      "execution_count": 0,
      "outputs": []
    },
    {
      "cell_type": "code",
      "metadata": {
        "id": "huIaOKr8Uop2",
        "colab_type": "code",
        "colab": {}
      },
      "source": [
        "def create_images(data, n_theta_bins=10, n_phi_bins=20, n_time_bins=6):\n",
        "    labels = []\n",
        "    images = []\n",
        "    event_indexes = {}\n",
        "    event_ids = np.unique(data['EventID'].values)\n",
        "    \n",
        "    # collect event indexes\n",
        "    data_event_ids = data['EventID'].values\n",
        "    for i in range(len(data)):\n",
        "        i_event = data_event_ids[i]\n",
        "        if i_event in event_indexes:\n",
        "            event_indexes[i_event].append(i)\n",
        "        else:\n",
        "            event_indexes[i_event] = [i]\n",
        "            \n",
        "    # create images\n",
        "    for i_event in event_ids:\n",
        "        event = data.iloc[event_indexes[i_event]]\n",
        "        X = event[['Theta', 'Phi', 'Time']].values\n",
        "        one_image, edges = np.histogramdd(X, bins=(n_theta_bins, n_phi_bins, n_time_bins))\n",
        "        images.append(one_image)\n",
        "        label = labels_train[labels_train[\"EventID\"]==i_event][\"Label\"].values[0]\n",
        "        labels.append(label)\n",
        "    return (np.array(images), np.array(labels))"
      ],
      "execution_count": 0,
      "outputs": []
    },
    {
      "cell_type": "code",
      "metadata": {
        "id": "RhSdAGpIWEJq",
        "colab_type": "code",
        "colab": {}
      },
      "source": [
        "images, labels = create_images(data_train,\n",
        "                               n_theta_bins=10, \n",
        "                               n_phi_bins=20, \n",
        "                               n_time_bins=6)"
      ],
      "execution_count": 0,
      "outputs": []
    },
    {
      "cell_type": "code",
      "metadata": {
        "id": "YbhaS6uhUeKN",
        "colab_type": "code",
        "outputId": "038a0033-24fe-4ae3-ab46-317996965b31",
        "colab": {
          "base_uri": "https://localhost:8080/",
          "height": 51
        }
      },
      "source": [
        "print(images.shape)\n",
        "print(labels.shape)"
      ],
      "execution_count": 98,
      "outputs": [
        {
          "output_type": "stream",
          "text": [
            "(80000, 10, 20, 6)\n",
            "(80000,)\n"
          ],
          "name": "stdout"
        }
      ]
    },
    {
      "cell_type": "markdown",
      "metadata": {
        "id": "XF--OclQRDCm",
        "colab_type": "text"
      },
      "source": [
        "# Data manipulation"
      ]
    },
    {
      "cell_type": "code",
      "metadata": {
        "id": "g0hwCNjCRKhe",
        "colab_type": "code",
        "outputId": "0356561c-7826-48e9-ec9c-9c59be38b1b4",
        "colab": {
          "base_uri": "https://localhost:8080/",
          "height": 351
        }
      },
      "source": [
        "signal = images[labels == 1]\n",
        "background = images[labels == 0]\n",
        "\n",
        "sig = np.random.randint(0, signal.shape[0])\n",
        "back = np.random.randint(0, background.shape[0])\n",
        "\n",
        "plt.figure()\n",
        "for i in range(6):\n",
        "  plt.subplot(1, 6, i+1)\n",
        "  plot = plt.imshow(signal[sig][:, :, i])\n",
        "  plt.title(f'signal deltaT{i+1}')\n",
        "  plt.colorbar(plot)\n",
        "plt.show()\n",
        "plt.figure()\n",
        "for i in range(6):\n",
        "  plt.subplot(1, 6, i+1)\n",
        "  plot = plt.imshow(background[back][:, :, i])\n",
        "  plt.title(f'background deltaT{i+1}')\n",
        "  plt.colorbar(plot)\n",
        "plt.show()"
      ],
      "execution_count": 143,
      "outputs": [
        {
          "output_type": "display_data",
          "data": {
            "image/png": "[encoded data removed]",
            "text/plain": [
              "<Figure size 432x288 with 12 Axes>"
            ]
          },
          "metadata": {
            "tags": [],
            "needs_background": "light"
          }
        },
        {
          "output_type": "display_data",
          "data": {
            "image/png": "[encoded data removed]",
            "text/plain": [
              "<Figure size 432x288 with 12 Axes>"
            ]
          },
          "metadata": {
            "tags": [],
            "needs_background": "light"
          }
        }
      ]
    },
    {
      "cell_type": "markdown",
      "metadata": {
        "id": "DgHBipXxRHht",
        "colab_type": "text"
      },
      "source": [
        "# NN training"
      ]
    },
    {
      "cell_type": "code",
      "metadata": {
        "id": "DRa_7ak-ie4V",
        "colab_type": "code",
        "colab": {}
      },
      "source": [
        "from sklearn.model_selection import train_test_split\n",
        "(X_train, X_val, Y_train, Y_val) = train_test_split(images, labels, test_size=0.2)"
      ],
      "execution_count": 0,
      "outputs": []
    },
    {
      "cell_type": "code",
      "metadata": {
        "id": "1HNW4jQof3gs",
        "colab_type": "code",
        "colab": {}
      },
      "source": [
        "import tensorflow as tf\n",
        "import tensorflow.keras as keras\n",
        "import tensorflow.keras.layers as layers"
      ],
      "execution_count": 0,
      "outputs": []
    },
    {
      "cell_type": "code",
      "metadata": {
        "id": "s54cJs52NuPA",
        "colab_type": "code",
        "outputId": "dd7f691a-16f5-474b-c6cf-3d640b924138",
        "colab": {
          "base_uri": "https://localhost:8080/",
          "height": 51
        }
      },
      "source": [
        "print(X_train.shape)\n",
        "print(Y_train.shape)"
      ],
      "execution_count": 102,
      "outputs": [
        {
          "output_type": "stream",
          "text": [
            "(64000, 10, 20, 6)\n",
            "(64000,)\n"
          ],
          "name": "stdout"
        }
      ]
    },
    {
      "cell_type": "code",
      "metadata": {
        "id": "VhqGaI0ijHQA",
        "colab_type": "code",
        "outputId": "08d69a05-fd1e-43fe-fd20-53e873aab983",
        "colab": {
          "base_uri": "https://localhost:8080/",
          "height": 663
        }
      },
      "source": [
        "IMG_SHAPE = (10, 20, 6)\n",
        "\n",
        "img_input = keras.Input(shape=IMG_SHAPE, name=\"D_Image_Input\")\n",
        "x = img_input\n",
        "\n",
        "# primo blocco Convoluzionale\n",
        "x = keras.layers.Conv2D(filters=64, kernel_size=3,name='Conv_1', strides=(2, 2))(x)\n",
        "x = keras.layers.ReLU(name='ReLU_1')(x)\n",
        "x = layers.Dropout(0.2, name=\"DropOut_1\")(x)\n",
        "\n",
        "# secondo blocco Convoluzionale\n",
        "x = keras.layers.Conv2D(filters=128, kernel_size=2, name='Conv_2', strides=(2, 2))(x)\n",
        "x = keras.layers.ReLU(name='ReLU_2')(x)\n",
        "x = layers.Dropout(0.2, name=\"DropOut_2\")(x)\n",
        "\n",
        "# terzo blocco Convoluzionale\n",
        "x = keras.layers.Conv2D(filters=256, kernel_size=2, name='Conv_3', strides=(2, 2))(x)\n",
        "x = keras.layers.ReLU(name='ReLU_3')(x)\n",
        "x = layers.Dropout(0.2, name=\"DropOut_3\")(x)\n",
        "\n",
        "x = keras.layers.Flatten(name='Flatten')(x)\n",
        "\n",
        "# layer densi\n",
        "x = keras.layers.Dense(128, name='Dense_1')(x)\n",
        "x = layers.Dropout(0.2, name=\"DropOut_4\")(x)\n",
        "x = keras.layers.ReLU(name='ReLU_dense_1')(x)\n",
        "\n",
        "outputs = keras.layers.Dense(1, name='Output')(x)\n",
        "\n",
        "model = keras.Model(inputs=img_input, outputs=outputs, name='predictor')\n",
        "\n",
        "#printout il summary del modello\n",
        "model.summary()"
      ],
      "execution_count": 147,
      "outputs": [
        {
          "output_type": "stream",
          "text": [
            "Model: \"predictor\"\n",
            "_________________________________________________________________\n",
            "Layer (type)                 Output Shape              Param #   \n",
            "=================================================================\n",
            "D_Image_Input (InputLayer)   [(None, 10, 20, 6)]       0         \n",
            "_________________________________________________________________\n",
            "Conv_1 (Conv2D)              (None, 4, 9, 64)          3520      \n",
            "_________________________________________________________________\n",
            "ReLU_1 (ReLU)                (None, 4, 9, 64)          0         \n",
            "_________________________________________________________________\n",
            "DropOut_1 (Dropout)          (None, 4, 9, 64)          0         \n",
            "_________________________________________________________________\n",
            "Conv_2 (Conv2D)              (None, 2, 4, 128)         32896     \n",
            "_________________________________________________________________\n",
            "ReLU_2 (ReLU)                (None, 2, 4, 128)         0         \n",
            "_________________________________________________________________\n",
            "DropOut_2 (Dropout)          (None, 2, 4, 128)         0         \n",
            "_________________________________________________________________\n",
            "Conv_3 (Conv2D)              (None, 1, 2, 256)         131328    \n",
            "_________________________________________________________________\n",
            "ReLU_3 (ReLU)                (None, 1, 2, 256)         0         \n",
            "_________________________________________________________________\n",
            "DropOut_3 (Dropout)          (None, 1, 2, 256)         0         \n",
            "_________________________________________________________________\n",
            "Flatten (Flatten)            (None, 512)               0         \n",
            "_________________________________________________________________\n",
            "Dense_1 (Dense)              (None, 128)               65664     \n",
            "_________________________________________________________________\n",
            "DropOut_4 (Dropout)          (None, 128)               0         \n",
            "_________________________________________________________________\n",
            "ReLU_dense_1 (ReLU)          (None, 128)               0         \n",
            "_________________________________________________________________\n",
            "Output (Dense)               (None, 1)                 129       \n",
            "=================================================================\n",
            "Total params: 233,537\n",
            "Trainable params: 233,537\n",
            "Non-trainable params: 0\n",
            "_________________________________________________________________\n"
          ],
          "name": "stdout"
        }
      ]
    },
    {
      "cell_type": "code",
      "metadata": {
        "id": "9NcuImmijsQB",
        "colab_type": "code",
        "outputId": "cdcdedbf-ad3a-4598-9fd0-8caac5091ab4",
        "colab": {
          "base_uri": "https://localhost:8080/",
          "height": 1000
        }
      },
      "source": [
        "# learning rate per Adam\n",
        "LR_ST=1.8e-3\n",
        "\n",
        "# ottimizzatore\n",
        "OPTIMIZER = tf.keras.optimizers.Adam(learning_rate=LR_ST)\n",
        "\n",
        "model_checkpoint = keras.callbacks.ModelCheckpoint(\n",
        "        filepath='cnn_best',\n",
        "        monitor='val_accuracy',\n",
        "        save_weights_only=True, \n",
        "        save_best_only=True,\n",
        "        save_freq='epoch')\n",
        "\n",
        "# metto tutte le callback in una lista\n",
        "callbacks = [model_checkpoint]    \n",
        "\n",
        "model.compile(loss=\"binary_crossentropy\", optimizer='adam', metrics=[\"accuracy\"])\n",
        "history = model.fit(images, labels, validation_split=0.1, batch_size=256, \n",
        "          epochs=50, shuffle=True, verbose=1, callbacks=callbacks)"
      ],
      "execution_count": 141,
      "outputs": [
        {
          "output_type": "stream",
          "text": [
            "Epoch 1/100\n",
            "282/282 [==============================] - 2s 7ms/step - loss: 0.7005 - accuracy: 0.5873 - val_loss: 0.6316 - val_accuracy: 0.6159\n",
            "Epoch 2/100\n",
            "282/282 [==============================] - 2s 7ms/step - loss: 0.5947 - accuracy: 0.6887 - val_loss: 0.3137 - val_accuracy: 0.9289\n",
            "Epoch 3/100\n",
            "282/282 [==============================] - 2s 7ms/step - loss: 0.5869 - accuracy: 0.6985 - val_loss: 0.6245 - val_accuracy: 0.6456\n",
            "Epoch 4/100\n",
            "282/282 [==============================] - 2s 7ms/step - loss: 0.5559 - accuracy: 0.7216 - val_loss: 0.5478 - val_accuracy: 0.7169\n",
            "Epoch 5/100\n",
            "282/282 [==============================] - 2s 7ms/step - loss: 0.5902 - accuracy: 0.6911 - val_loss: 1.1059 - val_accuracy: 0.4600\n",
            "Epoch 6/100\n",
            "282/282 [==============================] - 2s 7ms/step - loss: 0.5571 - accuracy: 0.7229 - val_loss: 0.2375 - val_accuracy: 1.0000\n",
            "Epoch 7/100\n",
            "282/282 [==============================] - 2s 7ms/step - loss: 0.5777 - accuracy: 0.6999 - val_loss: 0.6362 - val_accuracy: 0.7001\n",
            "Epoch 8/100\n",
            "282/282 [==============================] - 2s 7ms/step - loss: 0.5863 - accuracy: 0.6942 - val_loss: 0.6198 - val_accuracy: 0.6894\n",
            "Epoch 9/100\n",
            "282/282 [==============================] - 2s 7ms/step - loss: 0.5097 - accuracy: 0.7614 - val_loss: 0.4881 - val_accuracy: 0.7697\n",
            "Epoch 10/100\n",
            "282/282 [==============================] - 2s 7ms/step - loss: 0.5754 - accuracy: 0.6954 - val_loss: 0.5909 - val_accuracy: 0.7007\n",
            "Epoch 11/100\n",
            "282/282 [==============================] - 2s 7ms/step - loss: 0.5221 - accuracy: 0.7491 - val_loss: 0.5927 - val_accuracy: 0.7110\n",
            "Epoch 12/100\n",
            "282/282 [==============================] - 2s 7ms/step - loss: 0.4723 - accuracy: 0.7864 - val_loss: 0.7400 - val_accuracy: 0.6890\n",
            "Epoch 13/100\n",
            "282/282 [==============================] - 2s 7ms/step - loss: 0.4631 - accuracy: 0.7977 - val_loss: 0.2490 - val_accuracy: 0.9348\n",
            "Epoch 14/100\n",
            "282/282 [==============================] - 2s 7ms/step - loss: 0.4673 - accuracy: 0.7937 - val_loss: 1.0558 - val_accuracy: 0.7054\n",
            "Epoch 15/100\n",
            "282/282 [==============================] - 2s 7ms/step - loss: 0.3801 - accuracy: 0.8466 - val_loss: 0.7690 - val_accuracy: 0.7611\n",
            "Epoch 16/100\n",
            "282/282 [==============================] - 2s 7ms/step - loss: 0.3646 - accuracy: 0.8569 - val_loss: 0.8218 - val_accuracy: 0.7486\n",
            "Epoch 17/100\n",
            "282/282 [==============================] - 2s 7ms/step - loss: 0.3620 - accuracy: 0.8597 - val_loss: 0.5969 - val_accuracy: 0.7336\n",
            "Epoch 18/100\n",
            "282/282 [==============================] - 2s 7ms/step - loss: 0.4172 - accuracy: 0.8386 - val_loss: 0.8712 - val_accuracy: 0.7024\n",
            "Epoch 19/100\n",
            "282/282 [==============================] - 2s 7ms/step - loss: 0.4278 - accuracy: 0.8381 - val_loss: 0.9836 - val_accuracy: 0.6559\n",
            "Epoch 20/100\n",
            "282/282 [==============================] - 2s 7ms/step - loss: 0.5169 - accuracy: 0.7846 - val_loss: 1.0133 - val_accuracy: 0.6212\n",
            "Epoch 21/100\n",
            "282/282 [==============================] - 2s 7ms/step - loss: 0.4500 - accuracy: 0.8139 - val_loss: 0.5632 - val_accuracy: 0.7679\n",
            "Epoch 22/100\n",
            "282/282 [==============================] - 2s 7ms/step - loss: 0.3764 - accuracy: 0.8574 - val_loss: 1.5679 - val_accuracy: 0.6396\n",
            "Epoch 23/100\n",
            "282/282 [==============================] - 2s 7ms/step - loss: 0.3536 - accuracy: 0.8684 - val_loss: 0.9600 - val_accuracy: 0.6595\n",
            "Epoch 24/100\n",
            "282/282 [==============================] - 2s 7ms/step - loss: 0.3549 - accuracy: 0.8700 - val_loss: 0.4595 - val_accuracy: 0.8016\n",
            "Epoch 25/100\n",
            "282/282 [==============================] - 2s 7ms/step - loss: 0.3264 - accuracy: 0.8842 - val_loss: 1.2984 - val_accuracy: 0.7021\n",
            "Epoch 26/100\n",
            "282/282 [==============================] - 2s 7ms/step - loss: 0.2551 - accuracy: 0.9164 - val_loss: 1.9508 - val_accuracy: 0.6888\n",
            "Epoch 27/100\n",
            "282/282 [==============================] - 2s 7ms/step - loss: 0.1981 - accuracy: 0.9411 - val_loss: 2.3063 - val_accuracy: 0.7059\n",
            "Epoch 28/100\n",
            "282/282 [==============================] - 2s 7ms/step - loss: 0.2912 - accuracy: 0.9061 - val_loss: 0.2825 - val_accuracy: 0.8453\n",
            "Epoch 29/100\n",
            "282/282 [==============================] - 2s 7ms/step - loss: 0.4552 - accuracy: 0.8153 - val_loss: 0.9783 - val_accuracy: 0.7196\n",
            "Epoch 30/100\n",
            "282/282 [==============================] - 2s 7ms/step - loss: 0.3048 - accuracy: 0.8982 - val_loss: 1.2298 - val_accuracy: 0.7585\n",
            "Epoch 31/100\n",
            "282/282 [==============================] - 2s 7ms/step - loss: 0.3166 - accuracy: 0.8984 - val_loss: 2.0048 - val_accuracy: 0.6371\n",
            "Epoch 32/100\n",
            "282/282 [==============================] - 2s 7ms/step - loss: 0.2591 - accuracy: 0.9188 - val_loss: 2.0482 - val_accuracy: 0.6906\n",
            "Epoch 33/100\n",
            "282/282 [==============================] - 2s 7ms/step - loss: 0.3685 - accuracy: 0.8679 - val_loss: 1.0021 - val_accuracy: 0.6581\n",
            "Epoch 34/100\n",
            "282/282 [==============================] - 2s 7ms/step - loss: 0.4814 - accuracy: 0.8209 - val_loss: 0.4656 - val_accuracy: 0.7255\n",
            "Epoch 35/100\n",
            "282/282 [==============================] - 2s 7ms/step - loss: 0.4138 - accuracy: 0.8459 - val_loss: 0.9779 - val_accuracy: 0.6952\n",
            "Epoch 36/100\n",
            "282/282 [==============================] - 2s 7ms/step - loss: 0.4704 - accuracy: 0.8202 - val_loss: 0.8687 - val_accuracy: 0.6614\n",
            "Epoch 37/100\n",
            "282/282 [==============================] - 2s 7ms/step - loss: 0.3695 - accuracy: 0.8654 - val_loss: 1.6334 - val_accuracy: 0.6685\n",
            "Epoch 38/100\n",
            "282/282 [==============================] - 2s 7ms/step - loss: 0.3420 - accuracy: 0.8810 - val_loss: 0.5402 - val_accuracy: 0.6889\n",
            "Epoch 39/100\n",
            "282/282 [==============================] - 2s 7ms/step - loss: 0.3343 - accuracy: 0.8829 - val_loss: 1.3645 - val_accuracy: 0.6973\n",
            "Epoch 40/100\n",
            "282/282 [==============================] - 2s 7ms/step - loss: 0.5237 - accuracy: 0.8059 - val_loss: 1.2965 - val_accuracy: 0.5698\n",
            "Epoch 41/100\n",
            "282/282 [==============================] - 2s 7ms/step - loss: 0.3789 - accuracy: 0.8585 - val_loss: 1.4820 - val_accuracy: 0.6643\n",
            "Epoch 42/100\n",
            "282/282 [==============================] - 2s 7ms/step - loss: 0.2791 - accuracy: 0.9067 - val_loss: 1.6557 - val_accuracy: 0.7050\n",
            "Epoch 43/100\n",
            "282/282 [==============================] - 2s 7ms/step - loss: 0.3812 - accuracy: 0.8725 - val_loss: 0.3090 - val_accuracy: 0.9007\n",
            "Epoch 44/100\n",
            "282/282 [==============================] - 2s 7ms/step - loss: 0.5777 - accuracy: 0.7535 - val_loss: 0.9832 - val_accuracy: 0.5836\n",
            "Epoch 45/100\n",
            "282/282 [==============================] - 2s 7ms/step - loss: 0.5191 - accuracy: 0.7738 - val_loss: 1.0193 - val_accuracy: 0.6715\n",
            "Epoch 46/100\n",
            "282/282 [==============================] - 2s 7ms/step - loss: 0.5139 - accuracy: 0.7985 - val_loss: 0.5671 - val_accuracy: 0.6540\n",
            "Epoch 47/100\n",
            "282/282 [==============================] - 2s 7ms/step - loss: 0.5319 - accuracy: 0.7933 - val_loss: 1.2094 - val_accuracy: 0.6283\n",
            "Epoch 48/100\n",
            "282/282 [==============================] - 2s 7ms/step - loss: 0.3983 - accuracy: 0.8496 - val_loss: 0.9565 - val_accuracy: 0.7226\n",
            "Epoch 49/100\n",
            "282/282 [==============================] - 2s 7ms/step - loss: 0.3731 - accuracy: 0.8602 - val_loss: 1.4610 - val_accuracy: 0.6425\n",
            "Epoch 50/100\n",
            "282/282 [==============================] - 2s 7ms/step - loss: 0.3656 - accuracy: 0.8700 - val_loss: 1.9688 - val_accuracy: 0.6350\n",
            "Epoch 51/100\n",
            "282/282 [==============================] - 2s 7ms/step - loss: 0.2914 - accuracy: 0.8961 - val_loss: 1.5957 - val_accuracy: 0.6885\n",
            "Epoch 52/100\n",
            "282/282 [==============================] - 2s 7ms/step - loss: 0.3020 - accuracy: 0.8970 - val_loss: 1.0436 - val_accuracy: 0.6208\n",
            "Epoch 53/100\n",
            "282/282 [==============================] - 2s 7ms/step - loss: 0.3075 - accuracy: 0.8944 - val_loss: 1.7386 - val_accuracy: 0.7005\n",
            "Epoch 54/100\n",
            "282/282 [==============================] - 2s 7ms/step - loss: 0.6509 - accuracy: 0.8011 - val_loss: 1.3678 - val_accuracy: 0.4952\n",
            "Epoch 55/100\n",
            "282/282 [==============================] - 2s 7ms/step - loss: 0.4908 - accuracy: 0.8036 - val_loss: 0.8257 - val_accuracy: 0.6269\n",
            "Epoch 56/100\n",
            "282/282 [==============================] - 2s 7ms/step - loss: 0.3928 - accuracy: 0.8516 - val_loss: 1.2544 - val_accuracy: 0.6531\n",
            "Epoch 57/100\n",
            "282/282 [==============================] - 2s 7ms/step - loss: 0.3541 - accuracy: 0.8747 - val_loss: 1.2484 - val_accuracy: 0.6479\n",
            "Epoch 58/100\n",
            "282/282 [==============================] - 2s 7ms/step - loss: 0.4132 - accuracy: 0.8567 - val_loss: 1.5046 - val_accuracy: 0.6410\n",
            "Epoch 59/100\n",
            "282/282 [==============================] - 2s 7ms/step - loss: 0.3562 - accuracy: 0.8752 - val_loss: 1.0824 - val_accuracy: 0.6492\n",
            "Epoch 60/100\n",
            "282/282 [==============================] - 2s 7ms/step - loss: 0.3175 - accuracy: 0.8873 - val_loss: 1.7574 - val_accuracy: 0.6360\n",
            "Epoch 61/100\n",
            "282/282 [==============================] - 2s 7ms/step - loss: 0.2307 - accuracy: 0.9203 - val_loss: 2.2739 - val_accuracy: 0.6760\n",
            "Epoch 62/100\n",
            "282/282 [==============================] - 2s 7ms/step - loss: 0.1886 - accuracy: 0.9405 - val_loss: 2.2866 - val_accuracy: 0.7129\n",
            "Epoch 63/100\n",
            "282/282 [==============================] - 2s 7ms/step - loss: 0.1474 - accuracy: 0.9586 - val_loss: 2.6544 - val_accuracy: 0.6766\n",
            "Epoch 64/100\n",
            "282/282 [==============================] - 2s 6ms/step - loss: 0.1694 - accuracy: 0.9567 - val_loss: 1.9873 - val_accuracy: 0.7253\n",
            "Epoch 65/100\n",
            "282/282 [==============================] - 2s 7ms/step - loss: 0.2870 - accuracy: 0.9441 - val_loss: 2.5904 - val_accuracy: 0.7391\n",
            "Epoch 66/100\n",
            "282/282 [==============================] - 2s 7ms/step - loss: 0.4959 - accuracy: 0.8592 - val_loss: 1.3227 - val_accuracy: 0.6790\n",
            "Epoch 67/100\n",
            "282/282 [==============================] - 2s 7ms/step - loss: 0.4538 - accuracy: 0.8467 - val_loss: 1.6730 - val_accuracy: 0.6325\n",
            "Epoch 68/100\n",
            "282/282 [==============================] - 2s 7ms/step - loss: 0.4852 - accuracy: 0.8176 - val_loss: 0.5419 - val_accuracy: 0.7356\n",
            "Epoch 69/100\n",
            "282/282 [==============================] - 2s 7ms/step - loss: 0.6037 - accuracy: 0.7728 - val_loss: 1.4107 - val_accuracy: 0.6226\n",
            "Epoch 70/100\n",
            "282/282 [==============================] - 2s 7ms/step - loss: 0.3851 - accuracy: 0.8641 - val_loss: 1.6901 - val_accuracy: 0.6756\n",
            "Epoch 71/100\n",
            "282/282 [==============================] - 2s 7ms/step - loss: 0.5311 - accuracy: 0.7834 - val_loss: 0.9669 - val_accuracy: 0.5810\n",
            "Epoch 72/100\n",
            "282/282 [==============================] - 2s 6ms/step - loss: 0.4500 - accuracy: 0.8165 - val_loss: 0.7811 - val_accuracy: 0.6924\n",
            "Epoch 73/100\n",
            "282/282 [==============================] - 2s 6ms/step - loss: 0.3983 - accuracy: 0.8408 - val_loss: 0.7143 - val_accuracy: 0.6865\n",
            "Epoch 74/100\n",
            "282/282 [==============================] - 2s 7ms/step - loss: 0.4947 - accuracy: 0.8012 - val_loss: 1.0289 - val_accuracy: 0.6442\n",
            "Epoch 75/100\n",
            "282/282 [==============================] - 2s 6ms/step - loss: 0.4733 - accuracy: 0.8078 - val_loss: 1.0939 - val_accuracy: 0.6721\n",
            "Epoch 76/100\n",
            "282/282 [==============================] - 2s 7ms/step - loss: 0.4484 - accuracy: 0.8274 - val_loss: 1.0075 - val_accuracy: 0.5995\n",
            "Epoch 77/100\n",
            "282/282 [==============================] - 2s 6ms/step - loss: 0.4153 - accuracy: 0.8388 - val_loss: 1.3707 - val_accuracy: 0.6710\n",
            "Epoch 78/100\n",
            "282/282 [==============================] - 2s 7ms/step - loss: 0.3500 - accuracy: 0.8734 - val_loss: 1.1313 - val_accuracy: 0.7015\n",
            "Epoch 79/100\n",
            "282/282 [==============================] - 2s 7ms/step - loss: 0.3046 - accuracy: 0.8907 - val_loss: 1.7858 - val_accuracy: 0.6923\n",
            "Epoch 80/100\n",
            "282/282 [==============================] - 2s 7ms/step - loss: 0.3005 - accuracy: 0.9027 - val_loss: 1.7677 - val_accuracy: 0.6784\n",
            "Epoch 81/100\n",
            "282/282 [==============================] - 2s 7ms/step - loss: 0.2339 - accuracy: 0.9225 - val_loss: 2.1126 - val_accuracy: 0.6665\n",
            "Epoch 82/100\n",
            "282/282 [==============================] - 2s 7ms/step - loss: 0.5350 - accuracy: 0.8356 - val_loss: 1.3778 - val_accuracy: 0.6420\n",
            "Epoch 83/100\n",
            "282/282 [==============================] - 2s 7ms/step - loss: 0.4094 - accuracy: 0.8539 - val_loss: 1.5125 - val_accuracy: 0.6701\n",
            "Epoch 84/100\n",
            "282/282 [==============================] - 2s 7ms/step - loss: 0.3076 - accuracy: 0.8940 - val_loss: 1.8322 - val_accuracy: 0.6702\n",
            "Epoch 85/100\n",
            "282/282 [==============================] - 2s 7ms/step - loss: 0.2555 - accuracy: 0.9171 - val_loss: 2.1190 - val_accuracy: 0.6866\n",
            "Epoch 86/100\n",
            "282/282 [==============================] - 2s 7ms/step - loss: 0.2140 - accuracy: 0.9334 - val_loss: 2.2236 - val_accuracy: 0.7182\n",
            "Epoch 87/100\n",
            "282/282 [==============================] - 2s 6ms/step - loss: 0.1753 - accuracy: 0.9495 - val_loss: 2.4089 - val_accuracy: 0.7180\n",
            "Epoch 88/100\n",
            "282/282 [==============================] - 2s 7ms/step - loss: 0.1344 - accuracy: 0.9659 - val_loss: 5.1459 - val_accuracy: 0.5535\n",
            "Epoch 89/100\n",
            "282/282 [==============================] - 2s 6ms/step - loss: 0.2285 - accuracy: 0.9363 - val_loss: 2.3561 - val_accuracy: 0.7291\n",
            "Epoch 90/100\n",
            "282/282 [==============================] - 2s 7ms/step - loss: 0.1708 - accuracy: 0.9519 - val_loss: 2.5354 - val_accuracy: 0.7013\n",
            "Epoch 91/100\n",
            "282/282 [==============================] - 2s 6ms/step - loss: 0.4296 - accuracy: 0.8616 - val_loss: 1.5719 - val_accuracy: 0.7063\n",
            "Epoch 92/100\n",
            "282/282 [==============================] - 2s 6ms/step - loss: 0.3182 - accuracy: 0.8988 - val_loss: 1.9351 - val_accuracy: 0.6569\n",
            "Epoch 93/100\n",
            "282/282 [==============================] - 2s 7ms/step - loss: 0.2362 - accuracy: 0.9285 - val_loss: 2.3309 - val_accuracy: 0.6769\n",
            "Epoch 94/100\n",
            "282/282 [==============================] - 2s 6ms/step - loss: 0.2163 - accuracy: 0.9340 - val_loss: 2.2276 - val_accuracy: 0.7396\n",
            "Epoch 95/100\n",
            "282/282 [==============================] - 2s 6ms/step - loss: 0.1366 - accuracy: 0.9645 - val_loss: 2.9227 - val_accuracy: 0.6581\n",
            "Epoch 96/100\n",
            "282/282 [==============================] - 2s 7ms/step - loss: 0.1186 - accuracy: 0.9703 - val_loss: 3.2154 - val_accuracy: 0.6881\n",
            "Epoch 97/100\n",
            "282/282 [==============================] - 2s 6ms/step - loss: 0.0911 - accuracy: 0.9803 - val_loss: 3.3941 - val_accuracy: 0.6967\n",
            "Epoch 98/100\n",
            "282/282 [==============================] - 2s 7ms/step - loss: 0.1054 - accuracy: 0.9776 - val_loss: 3.0919 - val_accuracy: 0.7035\n",
            "Epoch 99/100\n",
            "282/282 [==============================] - 2s 6ms/step - loss: 0.1710 - accuracy: 0.9641 - val_loss: 3.2367 - val_accuracy: 0.6871\n",
            "Epoch 100/100\n",
            "282/282 [==============================] - 2s 7ms/step - loss: 0.2287 - accuracy: 0.9367 - val_loss: 2.2925 - val_accuracy: 0.6680\n"
          ],
          "name": "stdout"
        }
      ]
    },
    {
      "cell_type": "code",
      "metadata": {
        "id": "LKPxyogFkLrY",
        "colab_type": "code",
        "colab": {
          "base_uri": "https://localhost:8080/",
          "height": 315
        },
        "outputId": "b0f0e750-f2eb-4c0b-8c21-8664bff565b5"
      },
      "source": [
        "accuracy=history.history['accuracy']\n",
        "val_accuracy=history.history['val_accuracy']\n",
        "\n",
        "epochs_range = range(1, len(accuracy) + 1)\n",
        "\n",
        "plt.subplot(1, 2, 2)\n",
        "plt.plot(epochs_range, accuracy, label='Training accuracy')\n",
        "plt.plot(epochs_range, val_accuracy, label='Validation accuracy')\n",
        "plt.legend(loc='upper right')\n",
        "plt.title('Training and Validation Loss')\n",
        "plt.show()\n",
        "\n",
        "model.load_weights('cnn_best')\n",
        "vali_loss, vali_acc = model.evaluate(X_val, Y_val, verbose=0)\n",
        "print(f'\\nacc:{vali_acc:.2f}')"
      ],
      "execution_count": 142,
      "outputs": [
        {
          "output_type": "display_data",
          "data": {
            "image/png": "[encoded data removed]",
            "text/plain": [
              "<Figure size 432x288 with 1 Axes>"
            ]
          },
          "metadata": {
            "tags": [],
            "needs_background": "light"
          }
        },
        {
          "output_type": "stream",
          "text": [
            "\n",
            "acc:0.50\n"
          ],
          "name": "stdout"
        }
      ]
    }
  ]
}