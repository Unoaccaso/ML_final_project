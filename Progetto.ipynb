{
  "nbformat": 4,
  "nbformat_minor": 0,
  "metadata": {
    "colab": {
      "name": "Progetto.ipynb",
      "provenance": [],
      "collapsed_sections": [],
      "include_colab_link": true
    },
    "kernelspec": {
      "name": "python3",
      "display_name": "Python 3"
    },
    "accelerator": "GPU"
  },
  "cells": [
    {
      "cell_type": "markdown",
      "metadata": {
        "id": "view-in-github",
        "colab_type": "text"
      },
      "source": [
        "<a href=\"https://colab.research.google.com/github/Unoaccaso/ML_final_project/blob/master/Progetto.ipynb\" target=\"_parent\"><img src=\"https://colab.research.google.com/assets/colab-badge.svg\" alt=\"Open In Colab\"/></a>"
      ]
    },
    {
      "cell_type": "code",
      "metadata": {
        "id": "J-0BdvRzLo91",
        "colab_type": "code",
        "outputId": "2820a412-d220-48eb-9213-da97b6785043",
        "colab": {
          "base_uri": "https://localhost:8080/",
          "height": 564
        }
      },
      "source": [
        "!rm -rf * # warning\n",
        "!wget https://www.dropbox.com/s/grorylbv44zm4na/beta-beta-decay-identification.zip?dl=1 -O archive.zip\n",
        "!unzip archive.zip\n",
        "!7z x beta-beta-decay-identification/data_train.csv.zip -so > data_train.csv\n",
        "!7z x beta-beta-decay-identification/labels_train.csv.zip -so > labels_train.csv\n",
        "!rm -rf __MACOSX beta-beta-decay-identification archive.zip"
      ],
      "execution_count": 1,
      "outputs": [
        {
          "output_type": "stream",
          "text": [
            "--2020-06-11 09:50:10--  https://www.dropbox.com/s/grorylbv44zm4na/beta-beta-decay-identification.zip?dl=1\n",
            "Resolving www.dropbox.com (www.dropbox.com)... 162.125.82.1, 2620:100:6032:1::a27d:5201\n",
            "Connecting to www.dropbox.com (www.dropbox.com)|162.125.82.1|:443... connected.\n",
            "HTTP request sent, awaiting response... 301 Moved Permanently\n",
            "Location: /s/dl/grorylbv44zm4na/beta-beta-decay-identification.zip [following]\n",
            "--2020-06-11 09:50:10--  https://www.dropbox.com/s/dl/grorylbv44zm4na/beta-beta-decay-identification.zip\n",
            "Reusing existing connection to www.dropbox.com:443.\n",
            "HTTP request sent, awaiting response... 302 Found\n",
            "Location: https://uc7c706846d961b1a57b1d8d64fe.dl.dropboxusercontent.com/cd/0/get/A5eqpzuOMvrZo3X03zjGvaruUvXifh6IhpY8geulMBbW5bhLsleo92VXvqz48gSGaZ0v4wDRsfw-lVJ_l7j8Bt6aZFU9Hc_K7Mhzn36K17nCvbGkWDLDbjQ2kfw7WYbrXX4/file?dl=1# [following]\n",
            "--2020-06-11 09:50:10--  https://uc7c706846d961b1a57b1d8d64fe.dl.dropboxusercontent.com/cd/0/get/A5eqpzuOMvrZo3X03zjGvaruUvXifh6IhpY8geulMBbW5bhLsleo92VXvqz48gSGaZ0v4wDRsfw-lVJ_l7j8Bt6aZFU9Hc_K7Mhzn36K17nCvbGkWDLDbjQ2kfw7WYbrXX4/file?dl=1\n",
            "Resolving uc7c706846d961b1a57b1d8d64fe.dl.dropboxusercontent.com (uc7c706846d961b1a57b1d8d64fe.dl.dropboxusercontent.com)... 162.125.82.15, 2620:100:6032:15::a27d:520f\n",
            "Connecting to uc7c706846d961b1a57b1d8d64fe.dl.dropboxusercontent.com (uc7c706846d961b1a57b1d8d64fe.dl.dropboxusercontent.com)|162.125.82.15|:443... connected.\n",
            "HTTP request sent, awaiting response... 200 OK\n",
            "Length: 191145855 (182M) [application/binary]\n",
            "Saving to: ‘archive.zip’\n",
            "\n",
            "archive.zip         100%[===================>] 182.29M  12.8MB/s    in 14s     \n",
            "\n",
            "2020-06-11 09:50:25 (12.6 MB/s) - ‘archive.zip’ saved [191145855/191145855]\n",
            "\n",
            "Archive:  archive.zip\n",
            "   creating: beta-beta-decay-identification/\n",
            "  inflating: __MACOSX/._beta-beta-decay-identification  \n",
            "  inflating: beta-beta-decay-identification/Utility.ipynb  \n",
            "  inflating: __MACOSX/beta-beta-decay-identification/._Utility.ipynb  \n",
            "  inflating: beta-beta-decay-identification/.DS_Store  \n",
            "  inflating: __MACOSX/beta-beta-decay-identification/._.DS_Store  \n",
            "  inflating: beta-beta-decay-identification/data_train.csv.zip  \n",
            "  inflating: __MACOSX/beta-beta-decay-identification/._data_train.csv.zip  \n",
            "  inflating: beta-beta-decay-identification/labels_train.csv.zip  \n",
            "  inflating: __MACOSX/beta-beta-decay-identification/._labels_train.csv.zip  \n"
          ],
          "name": "stdout"
        }
      ]
    },
    {
      "cell_type": "code",
      "metadata": {
        "id": "M0uULBhqT1Ox",
        "colab_type": "code",
        "colab": {}
      },
      "source": [
        "import numpy as np\n",
        "import cupy as cp\n",
        "import pandas as pd\n",
        "from sklearn.decomposition import PCA\n",
        "from sklearn.manifold import TSNE\n",
        "import matplotlib.pyplot as plt\n",
        "from time import time\n",
        "from tqdm import tqdm\n",
        "from IPython.display import HTML, display\n",
        "import time"
      ],
      "execution_count": 0,
      "outputs": []
    },
    {
      "cell_type": "code",
      "metadata": {
        "id": "llwpE3YtT6jJ",
        "colab_type": "code",
        "colab": {}
      },
      "source": [
        "data_train = pd.read_csv('data_train.csv')\n",
        "labels_train = pd.read_csv('labels_train.csv')"
      ],
      "execution_count": 0,
      "outputs": []
    },
    {
      "cell_type": "code",
      "metadata": {
        "id": "huIaOKr8Uop2",
        "colab_type": "code",
        "colab": {}
      },
      "source": [
        "def create_images(data, n_theta_bins=10, n_phi_bins=20, n_time_bins=6):\n",
        "    labels = []\n",
        "    images = []\n",
        "    event_indexes = {}\n",
        "    event_ids = np.unique(data['EventID'].values)\n",
        "    \n",
        "    # collect event indexes\n",
        "    data_event_ids = data['EventID'].values\n",
        "    for i in range(len(data)):\n",
        "        i_event = data_event_ids[i]\n",
        "        if i_event in event_indexes:\n",
        "            event_indexes[i_event].append(i)\n",
        "        else:\n",
        "            event_indexes[i_event] = [i]\n",
        "            \n",
        "    # create images\n",
        "    for i, i_event in tqdm(enumerate(event_ids)):\n",
        "        event = data.iloc[event_indexes[i_event]]\n",
        "        X = event[['Theta', 'Phi', 'Time']].values\n",
        "        one_image, edges = np.histogramdd(X, \n",
        "                                          bins=(n_theta_bins, n_phi_bins, n_time_bins))\n",
        "        images.append(one_image)\n",
        "        label = labels_train[labels_train[\"EventID\"]==i_event][\"Label\"].values[0]\n",
        "        labels.append(label)\n",
        "    return (np.array(images), np.array(labels))"
      ],
      "execution_count": 0,
      "outputs": []
    },
    {
      "cell_type": "code",
      "metadata": {
        "id": "RhSdAGpIWEJq",
        "colab_type": "code",
        "colab": {
          "base_uri": "https://localhost:8080/",
          "height": 34
        },
        "outputId": "8b7cdced-de43-4a89-99d6-22135a48878b"
      },
      "source": [
        "images, labels = create_images(data_train,\n",
        "                               n_theta_bins=10, \n",
        "                               n_phi_bins=20, \n",
        "                               n_time_bins=6)"
      ],
      "execution_count": 5,
      "outputs": [
        {
          "output_type": "stream",
          "text": [
            "80000it [03:37, 367.20it/s]\n"
          ],
          "name": "stderr"
        }
      ]
    },
    {
      "cell_type": "code",
      "metadata": {
        "id": "YbhaS6uhUeKN",
        "colab_type": "code",
        "outputId": "c7d887f5-2374-48f3-b199-4c1de55aedc4",
        "colab": {
          "base_uri": "https://localhost:8080/",
          "height": 51
        }
      },
      "source": [
        "print(images.shape)\n",
        "print(labels.shape)"
      ],
      "execution_count": 6,
      "outputs": [
        {
          "output_type": "stream",
          "text": [
            "(80000, 10, 20, 6)\n",
            "(80000,)\n"
          ],
          "name": "stdout"
        }
      ]
    },
    {
      "cell_type": "markdown",
      "metadata": {
        "id": "XF--OclQRDCm",
        "colab_type": "text"
      },
      "source": [
        "# Data manipulation"
      ]
    },
    {
      "cell_type": "code",
      "metadata": {
        "id": "g0hwCNjCRKhe",
        "colab_type": "code",
        "outputId": "51e55c44-a1be-4097-ef87-5b525bd52e6a",
        "colab": {
          "base_uri": "https://localhost:8080/",
          "height": 271
        }
      },
      "source": [
        "signal = images[labels == 1]\n",
        "background = images[labels == 0]\n",
        "\n",
        "sig = np.random.randint(0, signal.shape[0])\n",
        "back = np.random.randint(0, background.shape[0])\n",
        "\n",
        "plt.figure(figsize=(20, 10))\n",
        "for i in range(6):\n",
        "  plt.subplot(1, 6, i+1)\n",
        "  plt.imshow(signal[sig][:, :, i])\n",
        "  plt.title(f'signal deltaT{i+1}')\n",
        "plt.show()\n",
        "plt.figure(figsize=(20, 10))\n",
        "for i in range(6):\n",
        "  plt.subplot(1, 6, i+1)\n",
        "  plt.imshow(background[back][:, :, i])\n",
        "  plt.title(f'background deltaT{i+1}')\n",
        "plt.show()"
      ],
      "execution_count": 7,
      "outputs": [
        {
          "output_type": "display_data",
          "data": {
            "image/png": "[encoded data removed]",
            "text/plain": [
              "<Figure size 1440x720 with 6 Axes>"
            ]
          },
          "metadata": {
            "tags": [],
            "needs_background": "light"
          }
        },
        {
          "output_type": "display_data",
          "data": {
            "image/png": "[encoded data removed]",
            "text/plain": [
              "<Figure size 1440x720 with 6 Axes>"
            ]
          },
          "metadata": {
            "tags": [],
            "needs_background": "light"
          }
        }
      ]
    },
    {
      "cell_type": "markdown",
      "metadata": {
        "id": "DgHBipXxRHht",
        "colab_type": "text"
      },
      "source": [
        "# NN training"
      ]
    },
    {
      "cell_type": "code",
      "metadata": {
        "id": "DRa_7ak-ie4V",
        "colab_type": "code",
        "colab": {}
      },
      "source": [
        "from sklearn.model_selection import train_test_split\n",
        "(X_train, X_test, Y_train, Y_test) = train_test_split(images, labels, test_size=0.2)"
      ],
      "execution_count": 0,
      "outputs": []
    },
    {
      "cell_type": "code",
      "metadata": {
        "id": "1HNW4jQof3gs",
        "colab_type": "code",
        "colab": {}
      },
      "source": [
        "import tensorflow as tf\n",
        "import tensorflow.keras as keras\n",
        "import tensorflow.keras.layers as layers"
      ],
      "execution_count": 0,
      "outputs": []
    },
    {
      "cell_type": "code",
      "metadata": {
        "id": "s54cJs52NuPA",
        "colab_type": "code",
        "outputId": "93c2e301-ad26-43a0-9d9b-12ee6f7a1c50",
        "colab": {
          "base_uri": "https://localhost:8080/",
          "height": 51
        }
      },
      "source": [
        "print(X_train.shape)\n",
        "print(Y_train.shape)"
      ],
      "execution_count": 153,
      "outputs": [
        {
          "output_type": "stream",
          "text": [
            "(64000, 10, 20, 6)\n",
            "(64000,)\n"
          ],
          "name": "stdout"
        }
      ]
    },
    {
      "cell_type": "code",
      "metadata": {
        "id": "VhqGaI0ijHQA",
        "colab_type": "code",
        "outputId": "4bf1706b-ceb4-46a0-8de7-67eb9726edf3",
        "colab": {
          "base_uri": "https://localhost:8080/",
          "height": 765
        }
      },
      "source": [
        "IMG_SHAPE = (10, 20, 6)\n",
        "\n",
        "img_input = keras.Input(shape=IMG_SHAPE, name=\"D_Image_Input\")\n",
        "x = img_input\n",
        "\n",
        "# primo blocco Convoluzionale\n",
        "x = keras.layers.Conv2D(filters=8, kernel_size=(3, 5),name='Conv_1')(x)\n",
        "x = keras.layers.BatchNormalization()(x)\n",
        "x = keras.layers.ReLU(name='ReLU_1')(x)\n",
        "x = layers.Dropout(0.11, name=\"DropOut_1\")(x)\n",
        "\n",
        "# secondo blocco Convoluzionale\n",
        "x = keras.layers.Conv2D(filters=16, kernel_size=(3, 4), name='Conv_2')(x)\n",
        "x = keras.layers.BatchNormalization()(x)\n",
        "x = keras.layers.ReLU(name='ReLU_2')(x)\n",
        "x = layers.Dropout(0.1, name=\"DropOut_2\")(x)\n",
        "\n",
        "# terzo blocco Convoluzionale\n",
        "x = keras.layers.Conv2D(filters=16, kernel_size=(3, 3), name='Conv_3')(x)\n",
        "x = keras.layers.BatchNormalization()(x)\n",
        "x = keras.layers.ReLU(name='ReLU_3')(x)\n",
        "x = layers.Dropout(0.2, name=\"DropOut_3\")(x)\n",
        "\n",
        "x = keras.layers.Flatten(name='Flatten')(x)\n",
        "\n",
        "# layer densi\n",
        "x = keras.layers.Dense(32, name='Dense_1')(x)\n",
        "x = layers.Dropout(0.12, name=\"DropOut_4\")(x)\n",
        "x = keras.layers.ReLU(name='ReLU_dense_1')(x)\n",
        "\n",
        "outputs = keras.layers.Dense(1, activation='sigmoid', name='Output')(x)\n",
        "\n",
        "model = keras.Model(inputs=img_input, outputs=outputs, name='predictor')\n",
        "\n",
        "#printout il summary del modello\n",
        "model.summary()"
      ],
      "execution_count": 157,
      "outputs": [
        {
          "output_type": "stream",
          "text": [
            "Model: \"predictor\"\n",
            "_________________________________________________________________\n",
            "Layer (type)                 Output Shape              Param #   \n",
            "=================================================================\n",
            "D_Image_Input (InputLayer)   [(None, 10, 20, 6)]       0         \n",
            "_________________________________________________________________\n",
            "Conv_1 (Conv2D)              (None, 8, 16, 8)          728       \n",
            "_________________________________________________________________\n",
            "batch_normalization_116 (Bat (None, 8, 16, 8)          32        \n",
            "_________________________________________________________________\n",
            "ReLU_1 (ReLU)                (None, 8, 16, 8)          0         \n",
            "_________________________________________________________________\n",
            "DropOut_1 (Dropout)          (None, 8, 16, 8)          0         \n",
            "_________________________________________________________________\n",
            "Conv_2 (Conv2D)              (None, 6, 13, 16)         1552      \n",
            "_________________________________________________________________\n",
            "batch_normalization_117 (Bat (None, 6, 13, 16)         64        \n",
            "_________________________________________________________________\n",
            "ReLU_2 (ReLU)                (None, 6, 13, 16)         0         \n",
            "_________________________________________________________________\n",
            "DropOut_2 (Dropout)          (None, 6, 13, 16)         0         \n",
            "_________________________________________________________________\n",
            "Conv_3 (Conv2D)              (None, 4, 11, 16)         2320      \n",
            "_________________________________________________________________\n",
            "batch_normalization_118 (Bat (None, 4, 11, 16)         64        \n",
            "_________________________________________________________________\n",
            "ReLU_3 (ReLU)                (None, 4, 11, 16)         0         \n",
            "_________________________________________________________________\n",
            "DropOut_3 (Dropout)          (None, 4, 11, 16)         0         \n",
            "_________________________________________________________________\n",
            "Flatten (Flatten)            (None, 704)               0         \n",
            "_________________________________________________________________\n",
            "Dense_1 (Dense)              (None, 32)                22560     \n",
            "_________________________________________________________________\n",
            "DropOut_4 (Dropout)          (None, 32)                0         \n",
            "_________________________________________________________________\n",
            "ReLU_dense_1 (ReLU)          (None, 32)                0         \n",
            "_________________________________________________________________\n",
            "Output (Dense)               (None, 1)                 33        \n",
            "=================================================================\n",
            "Total params: 27,353\n",
            "Trainable params: 27,273\n",
            "Non-trainable params: 80\n",
            "_________________________________________________________________\n"
          ],
          "name": "stdout"
        }
      ]
    },
    {
      "cell_type": "code",
      "metadata": {
        "id": "9NcuImmijsQB",
        "colab_type": "code",
        "outputId": "77bc32d8-5457-4633-89a6-f4fad9468be2",
        "colab": {
          "base_uri": "https://localhost:8080/",
          "height": 1000
        }
      },
      "source": [
        "model_checkpoint = keras.callbacks.ModelCheckpoint(\n",
        "        filepath='cnn_best',\n",
        "        monitor='val_accuracy',\n",
        "        save_weights_only=True, \n",
        "        save_best_only=True,\n",
        "        save_freq='epoch')\n",
        "LR_ST=1e-3\n",
        "\n",
        "def lr_decay(epoch):\n",
        "  start = 15\n",
        "  if epoch < start:\n",
        "    return LR_ST\n",
        "  else:\n",
        "    return LR_ST * tf.math.exp(0.2 * (start - epoch))\n",
        "\n",
        "lr_scheduler = keras.callbacks.LearningRateScheduler(lr_decay)\n",
        "\n",
        "# metto tutte le callback in una lista\n",
        "callbacks = [ \n",
        "             lr_scheduler,\n",
        "             model_checkpoint \n",
        "             ]      \n",
        "\n",
        "model.compile(loss=\"binary_crossentropy\", optimizer='adam', \n",
        "              metrics=[\"accuracy\",\n",
        "                       keras.metrics.AUC(name='auc')])\n",
        "history = model.fit(X_train, Y_train, validation_split=0.1, batch_size=256, \n",
        "          epochs=35, shuffle=True, verbose=1, callbacks=callbacks)"
      ],
      "execution_count": 158,
      "outputs": [
        {
          "output_type": "stream",
          "text": [
            "Epoch 1/35\n",
            "225/225 [==============================] - 2s 11ms/step - loss: 0.6366 - accuracy: 0.6251 - auc: 0.6834 - val_loss: 0.6308 - val_accuracy: 0.6283 - val_auc: 0.8044 - lr: 0.0010\n",
            "Epoch 2/35\n",
            "225/225 [==============================] - 2s 9ms/step - loss: 0.5463 - accuracy: 0.7280 - auc: 0.7972 - val_loss: 0.5481 - val_accuracy: 0.7225 - val_auc: 0.8162 - lr: 0.0010\n",
            "Epoch 3/35\n",
            "225/225 [==============================] - 2s 9ms/step - loss: 0.5309 - accuracy: 0.7393 - auc: 0.8104 - val_loss: 0.5129 - val_accuracy: 0.7505 - val_auc: 0.8259 - lr: 0.0010\n",
            "Epoch 4/35\n",
            "225/225 [==============================] - 2s 9ms/step - loss: 0.5211 - accuracy: 0.7449 - auc: 0.8182 - val_loss: 0.5140 - val_accuracy: 0.7469 - val_auc: 0.8318 - lr: 0.0010\n",
            "Epoch 5/35\n",
            "225/225 [==============================] - 2s 9ms/step - loss: 0.5149 - accuracy: 0.7502 - auc: 0.8231 - val_loss: 0.5153 - val_accuracy: 0.7466 - val_auc: 0.8337 - lr: 0.0010\n",
            "Epoch 6/35\n",
            "225/225 [==============================] - 2s 9ms/step - loss: 0.5096 - accuracy: 0.7535 - auc: 0.8276 - val_loss: 0.5016 - val_accuracy: 0.7617 - val_auc: 0.8401 - lr: 0.0010\n",
            "Epoch 7/35\n",
            "225/225 [==============================] - 2s 9ms/step - loss: 0.5072 - accuracy: 0.7566 - auc: 0.8293 - val_loss: 0.4911 - val_accuracy: 0.7680 - val_auc: 0.8430 - lr: 0.0010\n",
            "Epoch 8/35\n",
            "225/225 [==============================] - 2s 9ms/step - loss: 0.5050 - accuracy: 0.7571 - auc: 0.8311 - val_loss: 0.5036 - val_accuracy: 0.7539 - val_auc: 0.8428 - lr: 0.0010\n",
            "Epoch 9/35\n",
            "225/225 [==============================] - 2s 9ms/step - loss: 0.5012 - accuracy: 0.7598 - auc: 0.8337 - val_loss: 0.4901 - val_accuracy: 0.7670 - val_auc: 0.8438 - lr: 0.0010\n",
            "Epoch 10/35\n",
            "225/225 [==============================] - 2s 9ms/step - loss: 0.4996 - accuracy: 0.7601 - auc: 0.8344 - val_loss: 0.5004 - val_accuracy: 0.7600 - val_auc: 0.8436 - lr: 0.0010\n",
            "Epoch 11/35\n",
            "225/225 [==============================] - 2s 9ms/step - loss: 0.4994 - accuracy: 0.7619 - auc: 0.8352 - val_loss: 0.4979 - val_accuracy: 0.7667 - val_auc: 0.8414 - lr: 0.0010\n",
            "Epoch 12/35\n",
            "225/225 [==============================] - 2s 9ms/step - loss: 0.4968 - accuracy: 0.7625 - auc: 0.8369 - val_loss: 0.4915 - val_accuracy: 0.7713 - val_auc: 0.8460 - lr: 0.0010\n",
            "Epoch 13/35\n",
            "225/225 [==============================] - 2s 9ms/step - loss: 0.4959 - accuracy: 0.7623 - auc: 0.8372 - val_loss: 0.4930 - val_accuracy: 0.7698 - val_auc: 0.8458 - lr: 0.0010\n",
            "Epoch 14/35\n",
            "225/225 [==============================] - 2s 9ms/step - loss: 0.4935 - accuracy: 0.7647 - auc: 0.8394 - val_loss: 0.4959 - val_accuracy: 0.7681 - val_auc: 0.8474 - lr: 0.0010\n",
            "Epoch 15/35\n",
            "225/225 [==============================] - 2s 9ms/step - loss: 0.4920 - accuracy: 0.7662 - auc: 0.8403 - val_loss: 0.4874 - val_accuracy: 0.7727 - val_auc: 0.8461 - lr: 0.0010\n",
            "Epoch 16/35\n",
            "225/225 [==============================] - 2s 9ms/step - loss: 0.4907 - accuracy: 0.7660 - auc: 0.8413 - val_loss: 0.4842 - val_accuracy: 0.7741 - val_auc: 0.8466 - lr: 0.0010\n",
            "Epoch 17/35\n",
            "225/225 [==============================] - 2s 9ms/step - loss: 0.4892 - accuracy: 0.7668 - auc: 0.8422 - val_loss: 0.5194 - val_accuracy: 0.7492 - val_auc: 0.8460 - lr: 8.1873e-04\n",
            "Epoch 18/35\n",
            "225/225 [==============================] - 2s 9ms/step - loss: 0.4876 - accuracy: 0.7694 - auc: 0.8439 - val_loss: 0.4872 - val_accuracy: 0.7741 - val_auc: 0.8471 - lr: 6.7032e-04\n",
            "Epoch 19/35\n",
            "225/225 [==============================] - 2s 9ms/step - loss: 0.4838 - accuracy: 0.7718 - auc: 0.8460 - val_loss: 0.5024 - val_accuracy: 0.7675 - val_auc: 0.8463 - lr: 5.4881e-04\n",
            "Epoch 20/35\n",
            "225/225 [==============================] - 2s 9ms/step - loss: 0.4847 - accuracy: 0.7702 - auc: 0.8456 - val_loss: 0.4830 - val_accuracy: 0.7753 - val_auc: 0.8478 - lr: 4.4933e-04\n",
            "Epoch 21/35\n",
            "225/225 [==============================] - 2s 9ms/step - loss: 0.4833 - accuracy: 0.7696 - auc: 0.8468 - val_loss: 0.4971 - val_accuracy: 0.7686 - val_auc: 0.8479 - lr: 3.6788e-04\n",
            "Epoch 22/35\n",
            "225/225 [==============================] - 2s 9ms/step - loss: 0.4818 - accuracy: 0.7725 - auc: 0.8476 - val_loss: 0.4812 - val_accuracy: 0.7731 - val_auc: 0.8492 - lr: 3.0119e-04\n",
            "Epoch 23/35\n",
            "225/225 [==============================] - 2s 9ms/step - loss: 0.4813 - accuracy: 0.7719 - auc: 0.8474 - val_loss: 0.4870 - val_accuracy: 0.7716 - val_auc: 0.8489 - lr: 2.4660e-04\n",
            "Epoch 24/35\n",
            "225/225 [==============================] - 2s 9ms/step - loss: 0.4807 - accuracy: 0.7734 - auc: 0.8485 - val_loss: 0.4862 - val_accuracy: 0.7713 - val_auc: 0.8489 - lr: 2.0190e-04\n",
            "Epoch 25/35\n",
            "225/225 [==============================] - 2s 9ms/step - loss: 0.4791 - accuracy: 0.7735 - auc: 0.8495 - val_loss: 0.4816 - val_accuracy: 0.7738 - val_auc: 0.8493 - lr: 1.6530e-04\n",
            "Epoch 26/35\n",
            "225/225 [==============================] - 2s 9ms/step - loss: 0.4792 - accuracy: 0.7718 - auc: 0.8492 - val_loss: 0.4816 - val_accuracy: 0.7744 - val_auc: 0.8495 - lr: 1.3534e-04\n",
            "Epoch 27/35\n",
            "225/225 [==============================] - 2s 9ms/step - loss: 0.4781 - accuracy: 0.7735 - auc: 0.8501 - val_loss: 0.4827 - val_accuracy: 0.7744 - val_auc: 0.8494 - lr: 1.1080e-04\n",
            "Epoch 28/35\n",
            "225/225 [==============================] - 2s 9ms/step - loss: 0.4778 - accuracy: 0.7745 - auc: 0.8504 - val_loss: 0.4831 - val_accuracy: 0.7745 - val_auc: 0.8494 - lr: 9.0718e-05\n",
            "Epoch 29/35\n",
            "225/225 [==============================] - 2s 9ms/step - loss: 0.4771 - accuracy: 0.7748 - auc: 0.8510 - val_loss: 0.4813 - val_accuracy: 0.7736 - val_auc: 0.8495 - lr: 7.4274e-05\n",
            "Epoch 30/35\n",
            "225/225 [==============================] - 2s 9ms/step - loss: 0.4761 - accuracy: 0.7750 - auc: 0.8515 - val_loss: 0.4846 - val_accuracy: 0.7722 - val_auc: 0.8491 - lr: 6.0810e-05\n",
            "Epoch 31/35\n",
            "225/225 [==============================] - 2s 9ms/step - loss: 0.4745 - accuracy: 0.7764 - auc: 0.8525 - val_loss: 0.4838 - val_accuracy: 0.7728 - val_auc: 0.8493 - lr: 4.9787e-05\n",
            "Epoch 32/35\n",
            "225/225 [==============================] - 2s 9ms/step - loss: 0.4769 - accuracy: 0.7749 - auc: 0.8511 - val_loss: 0.4841 - val_accuracy: 0.7744 - val_auc: 0.8492 - lr: 4.0762e-05\n",
            "Epoch 33/35\n",
            "225/225 [==============================] - 2s 9ms/step - loss: 0.4756 - accuracy: 0.7749 - auc: 0.8519 - val_loss: 0.4835 - val_accuracy: 0.7741 - val_auc: 0.8494 - lr: 3.3373e-05\n",
            "Epoch 34/35\n",
            "225/225 [==============================] - 2s 9ms/step - loss: 0.4759 - accuracy: 0.7743 - auc: 0.8517 - val_loss: 0.4828 - val_accuracy: 0.7748 - val_auc: 0.8495 - lr: 2.7324e-05\n",
            "Epoch 35/35\n",
            "225/225 [==============================] - 2s 9ms/step - loss: 0.4765 - accuracy: 0.7762 - auc: 0.8510 - val_loss: 0.4835 - val_accuracy: 0.7748 - val_auc: 0.8494 - lr: 2.2371e-05\n"
          ],
          "name": "stdout"
        }
      ]
    },
    {
      "cell_type": "code",
      "metadata": {
        "id": "LKPxyogFkLrY",
        "colab_type": "code",
        "outputId": "55545d0b-14cd-4355-b819-0614b155c7c6",
        "colab": {
          "base_uri": "https://localhost:8080/",
          "height": 512
        }
      },
      "source": [
        "accuracy=history.history['accuracy']\n",
        "val_accuracy=history.history['val_accuracy']\n",
        "\n",
        "AUC=history.history['auc']\n",
        "val_AUC=history.history['val_auc']\n",
        "\n",
        "epochs_range = range(1, len(accuracy) + 1)\n",
        "\n",
        "plt.figure(figsize=(10, 7))\n",
        "\n",
        "plt.subplot(1, 2, 1)\n",
        "plt.plot(epochs_range, accuracy, label='Training accuracy')\n",
        "plt.plot(epochs_range, val_accuracy, label='Validation accuracy')\n",
        "plt.legend(loc=4)\n",
        "plt.title('Training and Validation Loss')\n",
        "\n",
        "plt.subplot(1, 2, 2)\n",
        "plt.plot(epochs_range, AUC, label='Training AUC')\n",
        "plt.plot(epochs_range, val_AUC, label='Validation AUC')\n",
        "plt.legend(loc=4)\n",
        "plt.title('Training and Validation AUC')\n",
        "\n",
        "plt.show()\n",
        "\n",
        "model.load_weights('cnn_best')\n",
        "loss, accuracy, AUC = model.evaluate(X_test, Y_test, verbose=0)\n",
        "print('Results on test:')\n",
        "print(f'Loss:\\t\\t{loss:.3f}')\n",
        "print(f'Accuracy:\\t{accuracy:.3f}')\n",
        "print(f'AUC:\\t\\t{AUC:.3f}')"
      ],
      "execution_count": 160,
      "outputs": [
        {
          "output_type": "display_data",
          "data": {
            "image/png": "[encoded data removed]",
            "text/plain": [
              "<Figure size 720x504 with 2 Axes>"
            ]
          },
          "metadata": {
            "tags": [],
            "needs_background": "light"
          }
        },
        {
          "output_type": "stream",
          "text": [
            "Results on test:\n",
            "Loss:\t\t0.487\n",
            "Accuracy:\t0.767\n",
            "AUC:\t\t0.845\n"
          ],
          "name": "stdout"
        }
      ]
    }
  ]
}