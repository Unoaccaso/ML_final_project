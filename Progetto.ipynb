{
  "nbformat": 4,
  "nbformat_minor": 0,
  "metadata": {
    "colab": {
      "name": "Progetto.ipynb",
      "provenance": [],
      "collapsed_sections": [],
      "include_colab_link": true
    },
    "kernelspec": {
      "name": "python3",
      "display_name": "Python 3"
    },
    "accelerator": "GPU"
  },
  "cells": [
    {
      "cell_type": "markdown",
      "metadata": {
        "id": "view-in-github",
        "colab_type": "text"
      },
      "source": [
        "<a href=\"https://colab.research.google.com/github/Unoaccaso/ML_final_project/blob/master/Progetto.ipynb\" target=\"_parent\"><img src=\"https://colab.research.google.com/assets/colab-badge.svg\" alt=\"Open In Colab\"/></a>"
      ]
    },
    {
      "cell_type": "code",
      "metadata": {
        "id": "J-0BdvRzLo91",
        "colab_type": "code",
        "outputId": "11b08a90-2500-46ee-d11e-cc7011a79119",
        "colab": {
          "base_uri": "https://localhost:8080/",
          "height": 564
        }
      },
      "source": [
        "!rm -rf * # warning\n",
        "!wget https://www.dropbox.com/s/grorylbv44zm4na/beta-beta-decay-identification.zip?dl=1 -O archive.zip\n",
        "!unzip archive.zip\n",
        "!7z x beta-beta-decay-identification/data_train.csv.zip -so > data_train.csv\n",
        "!7z x beta-beta-decay-identification/labels_train.csv.zip -so > labels_train.csv\n",
        "!rm -rf __MACOSX beta-beta-decay-identification archive.zip"
      ],
      "execution_count": 32,
      "outputs": [
        {
          "output_type": "stream",
          "text": [
            "--2020-06-12 13:20:51--  https://www.dropbox.com/s/grorylbv44zm4na/beta-beta-decay-identification.zip?dl=1\n",
            "Resolving www.dropbox.com (www.dropbox.com)... 162.125.67.1, 2620:100:6023:1::a27d:4301\n",
            "Connecting to www.dropbox.com (www.dropbox.com)|162.125.67.1|:443... connected.\n",
            "HTTP request sent, awaiting response... 301 Moved Permanently\n",
            "Location: /s/dl/grorylbv44zm4na/beta-beta-decay-identification.zip [following]\n",
            "--2020-06-12 13:20:51--  https://www.dropbox.com/s/dl/grorylbv44zm4na/beta-beta-decay-identification.zip\n",
            "Reusing existing connection to www.dropbox.com:443.\n",
            "HTTP request sent, awaiting response... 302 Found\n",
            "Location: https://uc8a265d60bf66fed8ed3799cac6.dl.dropboxusercontent.com/cd/0/get/A5jY4m6zljt55kZ8JBMgQZgDifm2Mdpyhj62Kz5En9xWrAeO7XXdhZFuziN2-jhB8jAhPBrg0n9Cx2DLR4rby4H3isWxR-rGRdt1hm4pmjOxx74RaSGWYhtM2DWTGhykXxQ/file?dl=1# [following]\n",
            "--2020-06-12 13:20:51--  https://uc8a265d60bf66fed8ed3799cac6.dl.dropboxusercontent.com/cd/0/get/A5jY4m6zljt55kZ8JBMgQZgDifm2Mdpyhj62Kz5En9xWrAeO7XXdhZFuziN2-jhB8jAhPBrg0n9Cx2DLR4rby4H3isWxR-rGRdt1hm4pmjOxx74RaSGWYhtM2DWTGhykXxQ/file?dl=1\n",
            "Resolving uc8a265d60bf66fed8ed3799cac6.dl.dropboxusercontent.com (uc8a265d60bf66fed8ed3799cac6.dl.dropboxusercontent.com)... 162.125.67.15, 2620:100:6023:15::a27d:430f\n",
            "Connecting to uc8a265d60bf66fed8ed3799cac6.dl.dropboxusercontent.com (uc8a265d60bf66fed8ed3799cac6.dl.dropboxusercontent.com)|162.125.67.15|:443... connected.\n",
            "HTTP request sent, awaiting response... 200 OK\n",
            "Length: 191145855 (182M) [application/binary]\n",
            "Saving to: ‘archive.zip’\n",
            "\n",
            "archive.zip         100%[===================>] 182.29M  40.4MB/s    in 4.7s    \n",
            "\n",
            "2020-06-12 13:20:57 (38.8 MB/s) - ‘archive.zip’ saved [191145855/191145855]\n",
            "\n",
            "Archive:  archive.zip\n",
            "   creating: beta-beta-decay-identification/\n",
            "  inflating: __MACOSX/._beta-beta-decay-identification  \n",
            "  inflating: beta-beta-decay-identification/Utility.ipynb  \n",
            "  inflating: __MACOSX/beta-beta-decay-identification/._Utility.ipynb  \n",
            "  inflating: beta-beta-decay-identification/.DS_Store  \n",
            "  inflating: __MACOSX/beta-beta-decay-identification/._.DS_Store  \n",
            "  inflating: beta-beta-decay-identification/data_train.csv.zip  \n",
            "  inflating: __MACOSX/beta-beta-decay-identification/._data_train.csv.zip  \n",
            "  inflating: beta-beta-decay-identification/labels_train.csv.zip  \n",
            "  inflating: __MACOSX/beta-beta-decay-identification/._labels_train.csv.zip  \n"
          ],
          "name": "stdout"
        }
      ]
    },
    {
      "cell_type": "code",
      "metadata": {
        "id": "M0uULBhqT1Ox",
        "colab_type": "code",
        "colab": {}
      },
      "source": [
        "import numpy as np\n",
        "import cupy as cp\n",
        "import pandas as pd\n",
        "from sklearn.decomposition import PCA\n",
        "from sklearn.manifold import TSNE\n",
        "import matplotlib.pyplot as plt\n",
        "from time import time\n",
        "from tqdm import tqdm"
      ],
      "execution_count": 0,
      "outputs": []
    },
    {
      "cell_type": "code",
      "metadata": {
        "id": "llwpE3YtT6jJ",
        "colab_type": "code",
        "colab": {}
      },
      "source": [
        "data_train = pd.read_csv('data_train.csv')\n",
        "labels_train = pd.read_csv('labels_train.csv')"
      ],
      "execution_count": 0,
      "outputs": []
    },
    {
      "cell_type": "code",
      "metadata": {
        "id": "huIaOKr8Uop2",
        "colab_type": "code",
        "colab": {}
      },
      "source": [
        "def create_images(data, n_theta_bins=10, n_phi_bins=20, n_time_bins=6):\n",
        "    labels = []\n",
        "    images = []\n",
        "    event_indexes = {}\n",
        "    event_ids = np.unique(data['EventID'].values)\n",
        "    \n",
        "    # collect event indexes\n",
        "    data_event_ids = data['EventID'].values\n",
        "    for i in range(len(data)):\n",
        "        i_event = data_event_ids[i]\n",
        "        if i_event in event_indexes:\n",
        "            event_indexes[i_event].append(i)\n",
        "        else:\n",
        "            event_indexes[i_event] = [i]\n",
        "            \n",
        "    # create images\n",
        "    for i, i_event in enumerate(tqdm(event_ids)):\n",
        "        event = data.iloc[event_indexes[i_event]]\n",
        "        X = event[['Theta', 'Phi', 'Time']].values\n",
        "        one_image, edges = np.histogramdd(X, density=False,\n",
        "                                          bins=(n_theta_bins, n_phi_bins, n_time_bins))\n",
        "        images.append(one_image)\n",
        "        label = labels_train[labels_train[\"EventID\"]==i_event][\"Label\"].values[0]\n",
        "        labels.append(label)\n",
        "    return (np.array(images), np.array(labels))"
      ],
      "execution_count": 0,
      "outputs": []
    },
    {
      "cell_type": "code",
      "metadata": {
        "id": "RhSdAGpIWEJq",
        "colab_type": "code",
        "outputId": "f1f906be-92d4-4d2e-ff2a-47edbef18611",
        "colab": {
          "base_uri": "https://localhost:8080/",
          "height": 85
        }
      },
      "source": [
        "'''images, labels = create_images(data_train,\n",
        "                               n_theta_bins=10, \n",
        "                               n_phi_bins=20, \n",
        "                               n_time_bins=6)'''\n",
        "\n",
        "# === Pre-rendered data\n",
        "import requests\n",
        "import io\n",
        "\n",
        "def retrieve_data(urls):\n",
        "  data = []\n",
        "  for url in tqdm(urls):\n",
        "    response = requests.get(url)\n",
        "    response.raise_for_status()\n",
        "    data.append(np.load(io.BytesIO(response.content)))\n",
        "  return data\n",
        "\n",
        "images, labels = retrieve_data([\n",
        "    \"https://www.dropbox.com/s/zilveq4b7f1fdpz/images.npy?dl=1\",\n",
        "    \"https://www.dropbox.com/s/6oue6rbyfcsatxg/labels.npy?dl=1\"\n",
        "])"
      ],
      "execution_count": 36,
      "outputs": [
        {
          "output_type": "stream",
          "text": [
            "\n",
            "  0%|          | 0/2 [00:00<?, ?it/s]\u001b[A\n",
            " 50%|█████     | 1/2 [00:33<00:33, 33.69s/it]\u001b[A\n",
            "100%|██████████| 2/2 [00:35<00:00, 17.51s/it]\n"
          ],
          "name": "stderr"
        }
      ]
    },
    {
      "cell_type": "code",
      "metadata": {
        "id": "YbhaS6uhUeKN",
        "colab_type": "code",
        "outputId": "8dc327c8-2526-4cfd-bcf8-c34ad5e4054f",
        "colab": {
          "base_uri": "https://localhost:8080/",
          "height": 51
        }
      },
      "source": [
        "print(images.shape)\n",
        "print(labels.shape)"
      ],
      "execution_count": 37,
      "outputs": [
        {
          "output_type": "stream",
          "text": [
            "(80000, 10, 20, 6)\n",
            "(80000,)\n"
          ],
          "name": "stdout"
        }
      ]
    },
    {
      "cell_type": "markdown",
      "metadata": {
        "id": "XF--OclQRDCm",
        "colab_type": "text"
      },
      "source": [
        "# Data manipulation"
      ]
    },
    {
      "cell_type": "code",
      "metadata": {
        "id": "g0hwCNjCRKhe",
        "colab_type": "code",
        "outputId": "0da30676-0cd7-4c78-b93f-ea0c02332069",
        "colab": {
          "base_uri": "https://localhost:8080/",
          "height": 271
        }
      },
      "source": [
        "signal = images[labels == 1]\n",
        "background = images[labels == 0]\n",
        "\n",
        "sig = np.random.randint(0, signal.shape[0])\n",
        "back = np.random.randint(0, background.shape[0])\n",
        "\n",
        "plt.figure(figsize=(20, 10))\n",
        "for i in range(6):\n",
        "  plt.subplot(1, 6, i+1)\n",
        "  plt.imshow(signal[sig][:, :, i])\n",
        "  plt.title(f'signal deltaT{i+1}')\n",
        "plt.show()\n",
        "plt.figure(figsize=(20, 10))\n",
        "for i in range(6):\n",
        "  plt.subplot(1, 6, i+1)\n",
        "  plt.imshow(background[back][:, :, i])\n",
        "  plt.title(f'background deltaT{i+1}')\n",
        "plt.show()"
      ],
      "execution_count": 38,
      "outputs": [
        {
          "output_type": "display_data",
          "data": {
            "image/png": "[encoded data removed]",
            "text/plain": [
              "<Figure size 1440x720 with 6 Axes>"
            ]
          },
          "metadata": {
            "tags": [],
            "needs_background": "light"
          }
        },
        {
          "output_type": "display_data",
          "data": {
            "image/png": "[encoded data removed]",
            "text/plain": [
              "<Figure size 1440x720 with 6 Axes>"
            ]
          },
          "metadata": {
            "tags": [],
            "needs_background": "light"
          }
        }
      ]
    },
    {
      "cell_type": "code",
      "metadata": {
        "id": "VhHVAyLa6C63",
        "colab_type": "code",
        "outputId": "a305742e-a632-4ab4-9164-5b5d9b53316c",
        "colab": {
          "base_uri": "https://localhost:8080/",
          "height": 401
        }
      },
      "source": [
        "# Preparing TSNE\n",
        "data = images.reshape((images.shape[0], images.shape[1]*images.shape[2]*images.shape[3]))\n",
        "index = np.random.randint(0, data.shape[0], 500)\n",
        "data = data[index]\n",
        "\n",
        "tsne = TSNE(n_components=2, verbose=1, perplexity=30, n_iter=700)\n",
        "axs = tsne.fit_transform(data)\n",
        "\n",
        "\n",
        "plt.scatter(x = axs[:, 0], y = axs[:, 1], c=labels[index])"
      ],
      "execution_count": 39,
      "outputs": [
        {
          "output_type": "stream",
          "text": [
            "[t-SNE] Computing 91 nearest neighbors...\n",
            "[t-SNE] Indexed 500 samples in 0.037s...\n",
            "[t-SNE] Computed neighbors for 500 samples in 0.600s...\n",
            "[t-SNE] Computed conditional probabilities for sample 500 / 500\n",
            "[t-SNE] Mean sigma: 3.267102\n",
            "[t-SNE] KL divergence after 250 iterations with early exaggeration: 147.693390\n",
            "[t-SNE] KL divergence after 700 iterations: 3.855554\n"
          ],
          "name": "stdout"
        },
        {
          "output_type": "execute_result",
          "data": {
            "text/plain": [
              "<matplotlib.collections.PathCollection at 0x7efd0efce400>"
            ]
          },
          "metadata": {
            "tags": []
          },
          "execution_count": 39
        },
        {
          "output_type": "display_data",
          "data": {
            "image/png": "[encoded data removed]",
            "text/plain": [
              "<Figure size 432x288 with 1 Axes>"
            ]
          },
          "metadata": {
            "tags": [],
            "needs_background": "light"
          }
        }
      ]
    },
    {
      "cell_type": "markdown",
      "metadata": {
        "id": "DgHBipXxRHht",
        "colab_type": "text"
      },
      "source": [
        "# NN training"
      ]
    },
    {
      "cell_type": "code",
      "metadata": {
        "id": "DRa_7ak-ie4V",
        "colab_type": "code",
        "colab": {}
      },
      "source": [
        "from sklearn.model_selection import train_test_split\n",
        "(X_train, X_test, Y_train, Y_test) = train_test_split(images, labels, test_size=0.2)"
      ],
      "execution_count": 0,
      "outputs": []
    },
    {
      "cell_type": "code",
      "metadata": {
        "id": "1HNW4jQof3gs",
        "colab_type": "code",
        "colab": {}
      },
      "source": [
        "import tensorflow as tf\n",
        "import tensorflow.keras as keras\n",
        "import tensorflow.keras.layers as layers"
      ],
      "execution_count": 0,
      "outputs": []
    },
    {
      "cell_type": "code",
      "metadata": {
        "id": "s54cJs52NuPA",
        "colab_type": "code",
        "outputId": "25bf1185-8c59-4006-e4f4-28239d09cc25",
        "colab": {
          "base_uri": "https://localhost:8080/",
          "height": 51
        }
      },
      "source": [
        "print(X_train.shape)\n",
        "print(Y_train.shape)"
      ],
      "execution_count": 42,
      "outputs": [
        {
          "output_type": "stream",
          "text": [
            "(64000, 10, 20, 6)\n",
            "(64000,)\n"
          ],
          "name": "stdout"
        }
      ]
    },
    {
      "cell_type": "code",
      "metadata": {
        "id": "VhqGaI0ijHQA",
        "colab_type": "code",
        "outputId": "20598ba9-7bd3-4592-cda3-ddaf36522052",
        "colab": {
          "base_uri": "https://localhost:8080/",
          "height": 629
        }
      },
      "source": [
        "IMG_SHAPE = (10, 20, 6)\n",
        "\n",
        "img_input = keras.Input(shape=IMG_SHAPE, name=\"D_Image_Input\")\n",
        "x = img_input\n",
        "\n",
        "# === Primo blocco Convoluzionale\n",
        "x = keras.layers.Conv2D(filters=8, kernel_size=(3, 5),name='Conv_1')(x)\n",
        "x = keras.layers.BatchNormalization()(x)\n",
        "x = keras.layers.ReLU(name='ReLU_1')(x)\n",
        "x = layers.Dropout(0.11, name=\"DropOut_1\")(x)\n",
        "\n",
        "# === Secondo blocco Convoluzionale\n",
        "x = keras.layers.Conv2D(filters=16, kernel_size=(3, 3), name='Conv_2')(x)\n",
        "x = keras.layers.BatchNormalization()(x)\n",
        "x = keras.layers.ReLU(name='ReLU_2')(x)\n",
        "x = layers.Dropout(0.2, name=\"DropOut_2\")(x)\n",
        "\n",
        "x = keras.layers.Flatten(name='Flatten')(x)\n",
        "\n",
        "# === Layer densi\n",
        "x = keras.layers.Dense(32, name='Dense_1')(x)\n",
        "x = layers.Dropout(0.12, name=\"DropOut_5\")(x)\n",
        "x = keras.layers.ReLU(name='ReLU_dense_1')(x)\n",
        "\n",
        "outputs = keras.layers.Dense(1, activation='sigmoid', name='Output')(x)\n",
        "\n",
        "model = keras.Model(inputs=img_input, outputs=outputs, name='predictor')\n",
        "\n",
        "# === Printout summary\n",
        "model.summary()"
      ],
      "execution_count": 43,
      "outputs": [
        {
          "output_type": "stream",
          "text": [
            "Model: \"predictor\"\n",
            "_________________________________________________________________\n",
            "Layer (type)                 Output Shape              Param #   \n",
            "=================================================================\n",
            "D_Image_Input (InputLayer)   [(None, 10, 20, 6)]       0         \n",
            "_________________________________________________________________\n",
            "Conv_1 (Conv2D)              (None, 8, 16, 8)          728       \n",
            "_________________________________________________________________\n",
            "batch_normalization_2 (Batch (None, 8, 16, 8)          32        \n",
            "_________________________________________________________________\n",
            "ReLU_1 (ReLU)                (None, 8, 16, 8)          0         \n",
            "_________________________________________________________________\n",
            "DropOut_1 (Dropout)          (None, 8, 16, 8)          0         \n",
            "_________________________________________________________________\n",
            "Conv_2 (Conv2D)              (None, 6, 14, 16)         1168      \n",
            "_________________________________________________________________\n",
            "batch_normalization_3 (Batch (None, 6, 14, 16)         64        \n",
            "_________________________________________________________________\n",
            "ReLU_2 (ReLU)                (None, 6, 14, 16)         0         \n",
            "_________________________________________________________________\n",
            "DropOut_2 (Dropout)          (None, 6, 14, 16)         0         \n",
            "_________________________________________________________________\n",
            "Flatten (Flatten)            (None, 1344)              0         \n",
            "_________________________________________________________________\n",
            "Dense_1 (Dense)              (None, 32)                43040     \n",
            "_________________________________________________________________\n",
            "DropOut_5 (Dropout)          (None, 32)                0         \n",
            "_________________________________________________________________\n",
            "ReLU_dense_1 (ReLU)          (None, 32)                0         \n",
            "_________________________________________________________________\n",
            "Output (Dense)               (None, 1)                 33        \n",
            "=================================================================\n",
            "Total params: 45,065\n",
            "Trainable params: 45,017\n",
            "Non-trainable params: 48\n",
            "_________________________________________________________________\n"
          ],
          "name": "stdout"
        }
      ]
    },
    {
      "cell_type": "code",
      "metadata": {
        "id": "9NcuImmijsQB",
        "colab_type": "code",
        "outputId": "2dc0de80-9ba5-4b71-914f-5683925c3d7c",
        "colab": {
          "base_uri": "https://localhost:8080/",
          "height": 1000
        }
      },
      "source": [
        "model_checkpoint = keras.callbacks.ModelCheckpoint(\n",
        "        filepath='cnn_best',\n",
        "        monitor='val_accuracy',\n",
        "        save_weights_only=True, \n",
        "        save_best_only=True,\n",
        "        save_freq='epoch')\n",
        "\n",
        "LR_ST=1e-3\n",
        "\n",
        "def lr_decay(epoch):\n",
        "  start = 10\n",
        "  if epoch < start:\n",
        "    return LR_ST\n",
        "  else:\n",
        "    return LR_ST * tf.math.exp(0.2 * (start - epoch))\n",
        "\n",
        "lr_scheduler = keras.callbacks.LearningRateScheduler(lr_decay)\n",
        "\n",
        "callbacks = [ \n",
        "             lr_scheduler,\n",
        "             model_checkpoint,\n",
        "             keras.callbacks.EarlyStopping(monitor='loss', patience=5)\n",
        "             ]      \n",
        "\n",
        "model.compile(loss=\"binary_crossentropy\", optimizer='adam', \n",
        "              metrics=[\n",
        "                       \"accuracy\",\n",
        "                       keras.metrics.AUC(name='auc')\n",
        "                       ])\n",
        "history = model.fit(X_train, Y_train, validation_split=0.1, batch_size=512, \n",
        "          epochs=50, shuffle=True, verbose=1, callbacks=callbacks)"
      ],
      "execution_count": 44,
      "outputs": [
        {
          "output_type": "stream",
          "text": [
            "Epoch 1/50\n",
            "113/113 [==============================] - 2s 16ms/step - loss: 0.6450 - accuracy: 0.6150 - auc: 0.6700 - val_loss: 0.7540 - val_accuracy: 0.5450 - val_auc: 0.7684 - lr: 0.0010\n",
            "Epoch 2/50\n",
            "113/113 [==============================] - 2s 13ms/step - loss: 0.5539 - accuracy: 0.7211 - auc: 0.7920 - val_loss: 0.6190 - val_accuracy: 0.6589 - val_auc: 0.8107 - lr: 0.0010\n",
            "Epoch 3/50\n",
            "113/113 [==============================] - 2s 14ms/step - loss: 0.5344 - accuracy: 0.7349 - auc: 0.8081 - val_loss: 0.5613 - val_accuracy: 0.7089 - val_auc: 0.8209 - lr: 0.0010\n",
            "Epoch 4/50\n",
            "113/113 [==============================] - 1s 13ms/step - loss: 0.5210 - accuracy: 0.7448 - auc: 0.8189 - val_loss: 0.5803 - val_accuracy: 0.6916 - val_auc: 0.8225 - lr: 0.0010\n",
            "Epoch 5/50\n",
            "113/113 [==============================] - 1s 13ms/step - loss: 0.5116 - accuracy: 0.7510 - auc: 0.8263 - val_loss: 0.5420 - val_accuracy: 0.7256 - val_auc: 0.8349 - lr: 0.0010\n",
            "Epoch 6/50\n",
            "113/113 [==============================] - 2s 13ms/step - loss: 0.5071 - accuracy: 0.7550 - auc: 0.8296 - val_loss: 0.5029 - val_accuracy: 0.7620 - val_auc: 0.8401 - lr: 0.0010\n",
            "Epoch 7/50\n",
            "113/113 [==============================] - 2s 14ms/step - loss: 0.5001 - accuracy: 0.7580 - auc: 0.8352 - val_loss: 0.4901 - val_accuracy: 0.7688 - val_auc: 0.8434 - lr: 0.0010\n",
            "Epoch 8/50\n",
            "113/113 [==============================] - 2s 14ms/step - loss: 0.4966 - accuracy: 0.7613 - auc: 0.8376 - val_loss: 0.4915 - val_accuracy: 0.7675 - val_auc: 0.8440 - lr: 0.0010\n",
            "Epoch 9/50\n",
            "113/113 [==============================] - 2s 14ms/step - loss: 0.4934 - accuracy: 0.7640 - auc: 0.8399 - val_loss: 0.5041 - val_accuracy: 0.7578 - val_auc: 0.8439 - lr: 0.0010\n",
            "Epoch 10/50\n",
            "113/113 [==============================] - 2s 13ms/step - loss: 0.4918 - accuracy: 0.7653 - auc: 0.8416 - val_loss: 0.4977 - val_accuracy: 0.7631 - val_auc: 0.8455 - lr: 0.0010\n",
            "Epoch 11/50\n",
            "113/113 [==============================] - 2s 13ms/step - loss: 0.4865 - accuracy: 0.7667 - auc: 0.8451 - val_loss: 0.4858 - val_accuracy: 0.7733 - val_auc: 0.8473 - lr: 0.0010\n",
            "Epoch 12/50\n",
            "113/113 [==============================] - 1s 13ms/step - loss: 0.4842 - accuracy: 0.7697 - auc: 0.8468 - val_loss: 0.4914 - val_accuracy: 0.7661 - val_auc: 0.8472 - lr: 8.1873e-04\n",
            "Epoch 13/50\n",
            "113/113 [==============================] - 1s 13ms/step - loss: 0.4816 - accuracy: 0.7718 - auc: 0.8487 - val_loss: 0.4851 - val_accuracy: 0.7722 - val_auc: 0.8472 - lr: 6.7032e-04\n",
            "Epoch 14/50\n",
            "113/113 [==============================] - 1s 13ms/step - loss: 0.4773 - accuracy: 0.7740 - auc: 0.8518 - val_loss: 0.4815 - val_accuracy: 0.7745 - val_auc: 0.8490 - lr: 5.4881e-04\n",
            "Epoch 15/50\n",
            "113/113 [==============================] - 1s 13ms/step - loss: 0.4749 - accuracy: 0.7743 - auc: 0.8533 - val_loss: 0.4871 - val_accuracy: 0.7716 - val_auc: 0.8479 - lr: 4.4933e-04\n",
            "Epoch 16/50\n",
            "113/113 [==============================] - 1s 13ms/step - loss: 0.4737 - accuracy: 0.7750 - auc: 0.8539 - val_loss: 0.4805 - val_accuracy: 0.7748 - val_auc: 0.8490 - lr: 3.6788e-04\n",
            "Epoch 17/50\n",
            "113/113 [==============================] - 1s 13ms/step - loss: 0.4720 - accuracy: 0.7777 - auc: 0.8550 - val_loss: 0.4810 - val_accuracy: 0.7758 - val_auc: 0.8493 - lr: 3.0119e-04\n",
            "Epoch 18/50\n",
            "113/113 [==============================] - 1s 13ms/step - loss: 0.4720 - accuracy: 0.7773 - auc: 0.8554 - val_loss: 0.4839 - val_accuracy: 0.7731 - val_auc: 0.8498 - lr: 2.4660e-04\n",
            "Epoch 19/50\n",
            "113/113 [==============================] - 1s 13ms/step - loss: 0.4697 - accuracy: 0.7787 - auc: 0.8571 - val_loss: 0.4818 - val_accuracy: 0.7752 - val_auc: 0.8496 - lr: 2.0190e-04\n",
            "Epoch 20/50\n",
            "113/113 [==============================] - 1s 13ms/step - loss: 0.4690 - accuracy: 0.7786 - auc: 0.8571 - val_loss: 0.4799 - val_accuracy: 0.7753 - val_auc: 0.8498 - lr: 1.6530e-04\n",
            "Epoch 21/50\n",
            "113/113 [==============================] - 2s 14ms/step - loss: 0.4658 - accuracy: 0.7826 - auc: 0.8595 - val_loss: 0.4793 - val_accuracy: 0.7778 - val_auc: 0.8503 - lr: 1.3534e-04\n",
            "Epoch 22/50\n",
            "113/113 [==============================] - 1s 13ms/step - loss: 0.4664 - accuracy: 0.7807 - auc: 0.8592 - val_loss: 0.4792 - val_accuracy: 0.7775 - val_auc: 0.8502 - lr: 1.1080e-04\n",
            "Epoch 23/50\n",
            "113/113 [==============================] - 1s 12ms/step - loss: 0.4659 - accuracy: 0.7806 - auc: 0.8596 - val_loss: 0.4792 - val_accuracy: 0.7772 - val_auc: 0.8503 - lr: 9.0718e-05\n",
            "Epoch 24/50\n",
            "113/113 [==============================] - 1s 13ms/step - loss: 0.4652 - accuracy: 0.7805 - auc: 0.8598 - val_loss: 0.4794 - val_accuracy: 0.7772 - val_auc: 0.8503 - lr: 7.4274e-05\n",
            "Epoch 25/50\n",
            "113/113 [==============================] - 1s 13ms/step - loss: 0.4664 - accuracy: 0.7803 - auc: 0.8589 - val_loss: 0.4797 - val_accuracy: 0.7747 - val_auc: 0.8503 - lr: 6.0810e-05\n",
            "Epoch 26/50\n",
            "113/113 [==============================] - 1s 13ms/step - loss: 0.4638 - accuracy: 0.7823 - auc: 0.8607 - val_loss: 0.4795 - val_accuracy: 0.7752 - val_auc: 0.8504 - lr: 4.9787e-05\n",
            "Epoch 27/50\n",
            "113/113 [==============================] - 2s 13ms/step - loss: 0.4650 - accuracy: 0.7801 - auc: 0.8598 - val_loss: 0.4793 - val_accuracy: 0.7759 - val_auc: 0.8505 - lr: 4.0762e-05\n",
            "Epoch 28/50\n",
            "113/113 [==============================] - 2s 13ms/step - loss: 0.4650 - accuracy: 0.7805 - auc: 0.8601 - val_loss: 0.4799 - val_accuracy: 0.7758 - val_auc: 0.8505 - lr: 3.3373e-05\n",
            "Epoch 29/50\n",
            "113/113 [==============================] - 1s 13ms/step - loss: 0.4641 - accuracy: 0.7828 - auc: 0.8606 - val_loss: 0.4792 - val_accuracy: 0.7758 - val_auc: 0.8506 - lr: 2.7324e-05\n",
            "Epoch 30/50\n",
            "113/113 [==============================] - 1s 13ms/step - loss: 0.4637 - accuracy: 0.7812 - auc: 0.8609 - val_loss: 0.4793 - val_accuracy: 0.7759 - val_auc: 0.8506 - lr: 2.2371e-05\n",
            "Epoch 31/50\n",
            "113/113 [==============================] - 1s 13ms/step - loss: 0.4635 - accuracy: 0.7808 - auc: 0.8609 - val_loss: 0.4792 - val_accuracy: 0.7759 - val_auc: 0.8506 - lr: 1.8316e-05\n",
            "Epoch 32/50\n",
            "113/113 [==============================] - 1s 13ms/step - loss: 0.4631 - accuracy: 0.7831 - auc: 0.8612 - val_loss: 0.4791 - val_accuracy: 0.7759 - val_auc: 0.8506 - lr: 1.4996e-05\n",
            "Epoch 33/50\n",
            "113/113 [==============================] - 1s 13ms/step - loss: 0.4621 - accuracy: 0.7819 - auc: 0.8619 - val_loss: 0.4795 - val_accuracy: 0.7766 - val_auc: 0.8505 - lr: 1.2277e-05\n",
            "Epoch 34/50\n",
            "113/113 [==============================] - 1s 13ms/step - loss: 0.4639 - accuracy: 0.7822 - auc: 0.8609 - val_loss: 0.4794 - val_accuracy: 0.7766 - val_auc: 0.8506 - lr: 1.0052e-05\n",
            "Epoch 35/50\n",
            "113/113 [==============================] - 1s 13ms/step - loss: 0.4614 - accuracy: 0.7833 - auc: 0.8626 - val_loss: 0.4792 - val_accuracy: 0.7766 - val_auc: 0.8506 - lr: 8.2297e-06\n",
            "Epoch 36/50\n",
            "113/113 [==============================] - 1s 13ms/step - loss: 0.4636 - accuracy: 0.7831 - auc: 0.8609 - val_loss: 0.4793 - val_accuracy: 0.7769 - val_auc: 0.8506 - lr: 6.7379e-06\n",
            "Epoch 37/50\n",
            "113/113 [==============================] - 1s 12ms/step - loss: 0.4638 - accuracy: 0.7819 - auc: 0.8609 - val_loss: 0.4793 - val_accuracy: 0.7769 - val_auc: 0.8507 - lr: 5.5166e-06\n",
            "Epoch 38/50\n",
            "113/113 [==============================] - 1s 13ms/step - loss: 0.4641 - accuracy: 0.7806 - auc: 0.8607 - val_loss: 0.4794 - val_accuracy: 0.7767 - val_auc: 0.8506 - lr: 4.5166e-06\n",
            "Epoch 39/50\n",
            "113/113 [==============================] - 1s 12ms/step - loss: 0.4629 - accuracy: 0.7838 - auc: 0.8617 - val_loss: 0.4794 - val_accuracy: 0.7769 - val_auc: 0.8506 - lr: 3.6979e-06\n",
            "Epoch 40/50\n",
            "113/113 [==============================] - 1s 13ms/step - loss: 0.4622 - accuracy: 0.7839 - auc: 0.8619 - val_loss: 0.4794 - val_accuracy: 0.7764 - val_auc: 0.8506 - lr: 3.0276e-06\n"
          ],
          "name": "stdout"
        }
      ]
    },
    {
      "cell_type": "code",
      "metadata": {
        "id": "LKPxyogFkLrY",
        "colab_type": "code",
        "outputId": "41bfb8c2-ce6e-474a-d31d-66440dafb348",
        "colab": {
          "base_uri": "https://localhost:8080/",
          "height": 614
        }
      },
      "source": [
        "accuracy=history.history['accuracy']\n",
        "val_accuracy=history.history['val_accuracy']\n",
        "\n",
        "AUC=history.history['auc']\n",
        "val_AUC=history.history['val_auc']\n",
        "\n",
        "epochs_range = range(1, len(accuracy) + 1)\n",
        "\n",
        "plt.figure(figsize=(10, 5))\n",
        "\n",
        "plt.subplot(1, 2, 1)\n",
        "plt.plot(epochs_range, accuracy, label='Training accuracy')\n",
        "plt.plot(epochs_range, val_accuracy, label='Validation accuracy')\n",
        "plt.legend(loc=4)\n",
        "plt.title('Training and Validation Loss')\n",
        "\n",
        "plt.subplot(1, 2, 2)\n",
        "plt.plot(epochs_range, AUC, label='Training AUC')\n",
        "plt.plot(epochs_range, val_AUC, label='Validation AUC')\n",
        "plt.legend(loc=4)\n",
        "plt.title('Training and Validation AUC')\n",
        "\n",
        "plt.show()\n",
        "\n",
        "# Building ROC curves\n",
        "\n",
        "from sklearn.metrics import roc_auc_score, roc_curve\n",
        "\n",
        "data = ((X_train, Y_train),\n",
        "        (X_test, Y_test)\n",
        "        )\n",
        "for i, dataset in enumerate(['train', 'test']):\n",
        "  pred = model.predict(data[i][0], verbose=0)\n",
        "  auc = roc_auc_score(data[i][1], pred)\n",
        "  fpr, tpr, thr =roc_curve(data[i][1], pred)\n",
        "  plt.plot(fpr, tpr, label = f'{dataset} auc = {auc:.2f}' )\n",
        "plt.xlabel('False Positive Rate')\n",
        "plt.ylabel('True Positive Rate')\n",
        "plt.legend(loc=\"lower right\")\n",
        "plt.title('ROC curve')\n",
        "plt.show()"
      ],
      "execution_count": 45,
      "outputs": [
        {
          "output_type": "display_data",
          "data": {
            "image/png": "[encoded data removed]",
            "text/plain": [
              "<Figure size 720x360 with 2 Axes>"
            ]
          },
          "metadata": {
            "tags": [],
            "needs_background": "light"
          }
        },
        {
          "output_type": "display_data",
          "data": {
            "image/png": "[encoded data removed]",
            "text/plain": [
              "<Figure size 432x288 with 1 Axes>"
            ]
          },
          "metadata": {
            "tags": [],
            "needs_background": "light"
          }
        }
      ]
    },
    {
      "cell_type": "markdown",
      "metadata": {
        "id": "MtDb0FCoFGMA",
        "colab_type": "text"
      },
      "source": [
        "# CNN Study"
      ]
    },
    {
      "cell_type": "code",
      "metadata": {
        "id": "Ri157JIGFFj2",
        "colab_type": "code",
        "outputId": "433f3be3-eabf-4c62-c733-0fcda71bd4d2",
        "colab": {
          "base_uri": "https://localhost:8080/",
          "height": 198
        }
      },
      "source": [
        "#salviamo i nomi di tutti i layers della rete nella lista layer_names\n",
        "layer_names = []\n",
        "for layer in model.layers:\n",
        "    layer_names.append(layer.name)\n",
        "print(layer_names)\n",
        "\n",
        "# estraiamo gli output da tutti i 20 layers della nostra rete\n",
        "layer_outputs = [layer.output for layer in model.layers[:22]]\n",
        "\n",
        "# instanziamo un semplice modello keras che prende l'immagine in input e restituisce \n",
        "# tali output (le attivazioni)\n",
        "\n",
        "activation_model = keras.Model(inputs=model.input, outputs=layer_outputs)\n",
        "\n",
        "\n",
        "index = np.random.randint(0, X_test.shape[0], 1)\n",
        "immagine = X_test[index]\n",
        "\n",
        "plt.figure(figsize=(20, 10))\n",
        "for i in range(6):\n",
        "  plt.subplot(1, 6, i+1)\n",
        "  plt.imshow(immagine[0][:, :, i])\n",
        "  plt.title(f'image type {Y_test[index]} deltaT{i+1}')\n",
        "plt.show()\n",
        "plt.figure(figsize=(20, 10))\n",
        "\n",
        "# e estraiamone le attivazioni\n",
        "activations = activation_model.predict(immagine)"
      ],
      "execution_count": 46,
      "outputs": [
        {
          "output_type": "stream",
          "text": [
            "['D_Image_Input', 'Conv_1', 'batch_normalization_2', 'ReLU_1', 'DropOut_1', 'Conv_2', 'batch_normalization_3', 'ReLU_2', 'DropOut_2', 'Flatten', 'Dense_1', 'DropOut_5', 'ReLU_dense_1', 'Output']\n"
          ],
          "name": "stdout"
        },
        {
          "output_type": "display_data",
          "data": {
            "image/png": "[encoded data removed]",
            "text/plain": [
              "<Figure size 1440x720 with 6 Axes>"
            ]
          },
          "metadata": {
            "tags": [],
            "needs_background": "light"
          }
        },
        {
          "output_type": "display_data",
          "data": {
            "text/plain": [
              "<Figure size 1440x720 with 0 Axes>"
            ]
          },
          "metadata": {
            "tags": []
          }
        }
      ]
    },
    {
      "cell_type": "code",
      "metadata": {
        "id": "xcGdS8gHGJfb",
        "colab_type": "code",
        "outputId": "5eb8f511-5289-47cb-e0d9-9a56fcb1e1cc",
        "colab": {
          "base_uri": "https://localhost:8080/",
          "height": 140
        }
      },
      "source": [
        "# grafichiamo gli output per il primo layer convoluzionale (è il layer numero \n",
        "# 3 (dopo ReLU) nel nostro modello)\n",
        "\n",
        "layer = 3\n",
        "first_layer_activation = activations[layer]\n",
        "print(first_layer_activation.shape)\n",
        "\n",
        "k = 0\n",
        "plt.figure(figsize=(20, 10))\n",
        "for i in range(6):\n",
        "  plt.subplot(1, 8, k + 1)\n",
        "  plt.imshow(first_layer_activation[0, :, :, k], cmap='viridis') \n",
        "  plt.title(layer_names[layer])\n",
        "  k = k + 1"
      ],
      "execution_count": 47,
      "outputs": [
        {
          "output_type": "stream",
          "text": [
            "(1, 8, 16, 8)\n"
          ],
          "name": "stdout"
        },
        {
          "output_type": "display_data",
          "data": {
            "image/png": "[encoded data removed]",
            "text/plain": [
              "<Figure size 1440x720 with 6 Axes>"
            ]
          },
          "metadata": {
            "tags": [],
            "needs_background": "light"
          }
        }
      ]
    },
    {
      "cell_type": "code",
      "metadata": {
        "id": "JPIJULgpMDFU",
        "colab_type": "code",
        "outputId": "677db20d-3ae2-4c65-f865-b273786d1e05",
        "colab": {
          "base_uri": "https://localhost:8080/",
          "height": 1000
        }
      },
      "source": [
        "for layerc in ['Conv_1', 'Conv_2']:\n",
        "    print('Filtri layer convoluzionale: ', layerc)\n",
        "    # pesi del layer selezionato:\n",
        "    filters, biases = model.get_layer(layerc).get_weights()\n",
        "    # numero dei filtri \n",
        "    n_filters = filters.shape[3]\n",
        "    # numero canali \n",
        "    n_channels = filters.shape[2]\n",
        "    # normalizzazione in [0,1] per rendere più chiaro il plot\n",
        "    f_min, f_max = filters.min(), filters.max()\n",
        "    filters = (filters - f_min) / (f_max - f_min)\n",
        "    k = 1\n",
        "    plt.figure(figsize=(n_channels, n_filters*0.8), frameon=False)\n",
        "    for i in range(n_filters):\n",
        "        f = filters[:, :, :, i]\n",
        "        # plot del filtro per ogni canale RGB\n",
        "        for j in range(n_channels):\n",
        "            ax = plt.subplot(n_filters, n_channels, k)\n",
        "            ax.set_xticks([])\n",
        "            ax.set_yticks([])\n",
        "            plt.imshow(f[:, :, j], cmap='gray')\n",
        "            k = k + 1\n",
        "\n",
        "    plt.show()"
      ],
      "execution_count": 48,
      "outputs": [
        {
          "output_type": "stream",
          "text": [
            "Filtri layer convoluzionale:  Conv_1\n"
          ],
          "name": "stdout"
        },
        {
          "output_type": "display_data",
          "data": {
            "image/png": "[encoded data removed]",
            "text/plain": [
              "<Figure size 432x460.8 with 48 Axes>"
            ]
          },
          "metadata": {
            "tags": []
          }
        },
        {
          "output_type": "stream",
          "text": [
            "Filtri layer convoluzionale:  Conv_2\n"
          ],
          "name": "stdout"
        },
        {
          "output_type": "display_data",
          "data": {
            "image/png": "[encoded data removed]",
            "text/plain": [
              "<Figure size 576x921.6 with 128 Axes>"
            ]
          },
          "metadata": {
            "tags": []
          }
        }
      ]
    },
    {
      "cell_type": "markdown",
      "metadata": {
        "id": "Ownvd7h5mCQG",
        "colab_type": "text"
      },
      "source": [
        "# Random Forest"
      ]
    },
    {
      "cell_type": "code",
      "metadata": {
        "id": "rshxV_RGQw7I",
        "colab_type": "code",
        "outputId": "47e2a1ef-b103-4b34-e124-097ed7ecb7b5",
        "colab": {
          "base_uri": "https://localhost:8080/",
          "height": 34
        }
      },
      "source": [
        "data = images.reshape((images.shape[0], -1))\n",
        "\n",
        "from sklearn.preprocessing import StandardScaler\n",
        "scaler = StandardScaler().fit(data)\n",
        "data = scaler.transform(data)\n",
        "\n",
        "# === Riduzione dimensionale del set\n",
        "pca_components = 12\n",
        "pca = PCA(n_components=pca_components)\n",
        "data = pca.fit_transform(data)\n",
        "\n",
        "print(data.shape)\n",
        "\n",
        "# === Splitting del dataset\n",
        "(data_X_train, data_X_test, data_Y_train, data_Y_test) = train_test_split(data, labels, test_size=0.2)"
      ],
      "execution_count": 49,
      "outputs": [
        {
          "output_type": "stream",
          "text": [
            "(80000, 12)\n"
          ],
          "name": "stdout"
        }
      ]
    },
    {
      "cell_type": "code",
      "metadata": {
        "id": "fa3Jd0dtmEEf",
        "colab_type": "code",
        "outputId": "a8cb7f3f-6398-4c89-f276-2e1f3b104e13",
        "colab": {
          "base_uri": "https://localhost:8080/",
          "height": 425
        }
      },
      "source": [
        "from sklearn.ensemble import RandomForestClassifier\n",
        "import warnings\n",
        "warnings.filterwarnings(\"ignore\")\n",
        "\n",
        "# === Valore del numero di alberi \n",
        "min_estimators = 500\n",
        "max_estimators = 1001\n",
        "classifer = RandomForestClassifier\n",
        "\n",
        "n_estimator_range=np.arange(min_estimators, max_estimators, 100)\n",
        "\n",
        "max_depth_list=[50] \n",
        "\n",
        "m=len(n_estimator_range)\n",
        "n=len(max_depth_list)\n",
        "\n",
        "# ==== Metrics\n",
        "RFC_train_accuracy=np.zeros((n,m))\n",
        "RFC_test_accuracy=np.zeros((n,m))\n",
        "RFC_train_AUC_accuracy=np.zeros((n,m))\n",
        "RFC_test_AUC_accuracy=np.zeros((n,m))\n",
        "run_time=np.zeros((n,m))\n",
        "\n",
        "print_flag=True\n",
        "\n",
        "for i, max_depth in enumerate(max_depth_list):\n",
        "    # Creazione del classificatore\n",
        "    myRF_clf = classifer(\n",
        "        n_estimators=min_estimators,\n",
        "        max_depth=None,\n",
        "        )\n",
        "    for j, n_estimator in enumerate(n_estimator_range):\n",
        "        \n",
        "        print('\\nN of estimators: %i, Max Depth: %i'%(n_estimator,max_depth))\n",
        "        \n",
        "        start_time = time()\n",
        "        #myRF_clf.set_params(n_estimators=n_estimator)\n",
        "        myRF_clf.fit(data_X_train, data_Y_train)\n",
        "        run_time[i,j] = time() - start_time\n",
        "\n",
        "    # check accuracy\n",
        "        RFC_train_accuracy[i,j]=myRF_clf.score(data_X_train,data_Y_train)\n",
        "        RFC_train_AUC_accuracy[i,j]=sk.roc_auc_score(data_Y_train, myRF_clf.predict_proba(data_X_train)[:, 1])\n",
        "        RFC_test_accuracy[i,j]=myRF_clf.score(data_X_test,data_Y_test)\n",
        "        RFC_test_AUC_accuracy[i,j]=sk.roc_auc_score(data_Y_test, myRF_clf.predict_proba(data_X_test)[:, 1])\n",
        "        if print_flag:\n",
        "            result = (run_time[i,j], RFC_train_accuracy[i,j], RFC_train_AUC_accuracy[i,j], RFC_test_accuracy[i,j], RFC_test_AUC_accuracy[i,j])\n",
        "            print('{0:<15}{1:<15}{2:<15}{3:<15}{4:<15}'.format(\"time (s)\",\"train score\", \"train AUC\", \"test score\", \"test AUC\" ))\n",
        "            print('{0:<15.4f}{1:<15.4f}{2:<15.4f}{3:<15.4f}{4:<15.4f}'.format(*result))"
      ],
      "execution_count": 54,
      "outputs": [
        {
          "output_type": "stream",
          "text": [
            "\n",
            "N of estimators: 500, Max Depth: 50\n",
            "time (s)       train score    train AUC      test score     test AUC       \n",
            "157.0254       1.0000         1.0000         0.7886         0.8776         \n",
            "\n",
            "N of estimators: 600, Max Depth: 50\n",
            "time (s)       train score    train AUC      test score     test AUC       \n",
            "158.8080       1.0000         1.0000         0.7881         0.8776         \n",
            "\n",
            "N of estimators: 700, Max Depth: 50\n",
            "time (s)       train score    train AUC      test score     test AUC       \n",
            "158.9183       1.0000         1.0000         0.7887         0.8777         \n",
            "\n",
            "N of estimators: 800, Max Depth: 50\n",
            "time (s)       train score    train AUC      test score     test AUC       \n",
            "158.4536       1.0000         1.0000         0.7888         0.8780         \n",
            "\n",
            "N of estimators: 900, Max Depth: 50\n",
            "time (s)       train score    train AUC      test score     test AUC       \n",
            "158.9330       1.0000         1.0000         0.7890         0.8776         \n",
            "\n",
            "N of estimators: 1000, Max Depth: 50\n",
            "time (s)       train score    train AUC      test score     test AUC       \n",
            "157.8714       1.0000         1.0000         0.7888         0.8776         \n"
          ],
          "name": "stdout"
        }
      ]
    }
  ]
}