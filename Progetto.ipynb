{
  "nbformat": 4,
  "nbformat_minor": 0,
  "metadata": {
    "colab": {
      "name": "Progetto.ipynb",
      "provenance": [],
      "collapsed_sections": [],
      "include_colab_link": true
    },
    "kernelspec": {
      "name": "python3",
      "display_name": "Python 3"
    },
    "accelerator": "GPU"
  },
  "cells": [
    {
      "cell_type": "markdown",
      "metadata": {
        "id": "view-in-github",
        "colab_type": "text"
      },
      "source": [
        "<a href=\"https://colab.research.google.com/github/Unoaccaso/ML_final_project/blob/master/Progetto.ipynb\" target=\"_parent\"><img src=\"https://colab.research.google.com/assets/colab-badge.svg\" alt=\"Open In Colab\"/></a>"
      ]
    },
    {
      "cell_type": "code",
      "metadata": {
        "id": "J-0BdvRzLo91",
        "colab_type": "code",
        "outputId": "2820a412-d220-48eb-9213-da97b6785043",
        "colab": {
          "base_uri": "https://localhost:8080/",
          "height": 564
        }
      },
      "source": [
        "!rm -rf * # warning\n",
        "!wget https://www.dropbox.com/s/grorylbv44zm4na/beta-beta-decay-identification.zip?dl=1 -O archive.zip\n",
        "!unzip archive.zip\n",
        "!7z x beta-beta-decay-identification/data_train.csv.zip -so > data_train.csv\n",
        "!7z x beta-beta-decay-identification/labels_train.csv.zip -so > labels_train.csv\n",
        "!rm -rf __MACOSX beta-beta-decay-identification archive.zip"
      ],
      "execution_count": 1,
      "outputs": [
        {
          "output_type": "stream",
          "text": [
            "--2020-06-11 09:50:10--  https://www.dropbox.com/s/grorylbv44zm4na/beta-beta-decay-identification.zip?dl=1\n",
            "Resolving www.dropbox.com (www.dropbox.com)... 162.125.82.1, 2620:100:6032:1::a27d:5201\n",
            "Connecting to www.dropbox.com (www.dropbox.com)|162.125.82.1|:443... connected.\n",
            "HTTP request sent, awaiting response... 301 Moved Permanently\n",
            "Location: /s/dl/grorylbv44zm4na/beta-beta-decay-identification.zip [following]\n",
            "--2020-06-11 09:50:10--  https://www.dropbox.com/s/dl/grorylbv44zm4na/beta-beta-decay-identification.zip\n",
            "Reusing existing connection to www.dropbox.com:443.\n",
            "HTTP request sent, awaiting response... 302 Found\n",
            "Location: https://uc7c706846d961b1a57b1d8d64fe.dl.dropboxusercontent.com/cd/0/get/A5eqpzuOMvrZo3X03zjGvaruUvXifh6IhpY8geulMBbW5bhLsleo92VXvqz48gSGaZ0v4wDRsfw-lVJ_l7j8Bt6aZFU9Hc_K7Mhzn36K17nCvbGkWDLDbjQ2kfw7WYbrXX4/file?dl=1# [following]\n",
            "--2020-06-11 09:50:10--  https://uc7c706846d961b1a57b1d8d64fe.dl.dropboxusercontent.com/cd/0/get/A5eqpzuOMvrZo3X03zjGvaruUvXifh6IhpY8geulMBbW5bhLsleo92VXvqz48gSGaZ0v4wDRsfw-lVJ_l7j8Bt6aZFU9Hc_K7Mhzn36K17nCvbGkWDLDbjQ2kfw7WYbrXX4/file?dl=1\n",
            "Resolving uc7c706846d961b1a57b1d8d64fe.dl.dropboxusercontent.com (uc7c706846d961b1a57b1d8d64fe.dl.dropboxusercontent.com)... 162.125.82.15, 2620:100:6032:15::a27d:520f\n",
            "Connecting to uc7c706846d961b1a57b1d8d64fe.dl.dropboxusercontent.com (uc7c706846d961b1a57b1d8d64fe.dl.dropboxusercontent.com)|162.125.82.15|:443... connected.\n",
            "HTTP request sent, awaiting response... 200 OK\n",
            "Length: 191145855 (182M) [application/binary]\n",
            "Saving to: ‘archive.zip’\n",
            "\n",
            "archive.zip         100%[===================>] 182.29M  12.8MB/s    in 14s     \n",
            "\n",
            "2020-06-11 09:50:25 (12.6 MB/s) - ‘archive.zip’ saved [191145855/191145855]\n",
            "\n",
            "Archive:  archive.zip\n",
            "   creating: beta-beta-decay-identification/\n",
            "  inflating: __MACOSX/._beta-beta-decay-identification  \n",
            "  inflating: beta-beta-decay-identification/Utility.ipynb  \n",
            "  inflating: __MACOSX/beta-beta-decay-identification/._Utility.ipynb  \n",
            "  inflating: beta-beta-decay-identification/.DS_Store  \n",
            "  inflating: __MACOSX/beta-beta-decay-identification/._.DS_Store  \n",
            "  inflating: beta-beta-decay-identification/data_train.csv.zip  \n",
            "  inflating: __MACOSX/beta-beta-decay-identification/._data_train.csv.zip  \n",
            "  inflating: beta-beta-decay-identification/labels_train.csv.zip  \n",
            "  inflating: __MACOSX/beta-beta-decay-identification/._labels_train.csv.zip  \n"
          ],
          "name": "stdout"
        }
      ]
    },
    {
      "cell_type": "code",
      "metadata": {
        "id": "M0uULBhqT1Ox",
        "colab_type": "code",
        "colab": {}
      },
      "source": [
        "import numpy as np\n",
        "import cupy as cp\n",
        "import pandas as pd\n",
        "from sklearn.decomposition import PCA\n",
        "from sklearn.manifold import TSNE\n",
        "import matplotlib.pyplot as plt\n",
        "from time import time\n",
        "from tqdm import tqdm\n",
        "from IPython.display import HTML, display\n",
        "import time"
      ],
      "execution_count": 0,
      "outputs": []
    },
    {
      "cell_type": "code",
      "metadata": {
        "id": "llwpE3YtT6jJ",
        "colab_type": "code",
        "colab": {}
      },
      "source": [
        "data_train = pd.read_csv('data_train.csv')\n",
        "labels_train = pd.read_csv('labels_train.csv')"
      ],
      "execution_count": 0,
      "outputs": []
    },
    {
      "cell_type": "code",
      "metadata": {
        "id": "huIaOKr8Uop2",
        "colab_type": "code",
        "colab": {}
      },
      "source": [
        "def create_images(data, n_theta_bins=10, n_phi_bins=20, n_time_bins=6):\n",
        "    labels = []\n",
        "    images = []\n",
        "    event_indexes = {}\n",
        "    event_ids = np.unique(data['EventID'].values)\n",
        "    \n",
        "    # collect event indexes\n",
        "    data_event_ids = data['EventID'].values\n",
        "    for i in range(len(data)):\n",
        "        i_event = data_event_ids[i]\n",
        "        if i_event in event_indexes:\n",
        "            event_indexes[i_event].append(i)\n",
        "        else:\n",
        "            event_indexes[i_event] = [i]\n",
        "            \n",
        "    # create images\n",
        "    for i, i_event in tqdm(enumerate(event_ids)):\n",
        "        event = data.iloc[event_indexes[i_event]]\n",
        "        X = event[['Theta', 'Phi', 'Time']].values\n",
        "        one_image, edges = np.histogramdd(X, \n",
        "                                          bins=(n_theta_bins, n_phi_bins, n_time_bins))\n",
        "        images.append(one_image)\n",
        "        label = labels_train[labels_train[\"EventID\"]==i_event][\"Label\"].values[0]\n",
        "        labels.append(label)\n",
        "    return (np.array(images), np.array(labels))"
      ],
      "execution_count": 0,
      "outputs": []
    },
    {
      "cell_type": "code",
      "metadata": {
        "id": "RhSdAGpIWEJq",
        "colab_type": "code",
        "colab": {
          "base_uri": "https://localhost:8080/",
          "height": 34
        },
        "outputId": "8b7cdced-de43-4a89-99d6-22135a48878b"
      },
      "source": [
        "images, labels = create_images(data_train,\n",
        "                               n_theta_bins=10, \n",
        "                               n_phi_bins=20, \n",
        "                               n_time_bins=6)"
      ],
      "execution_count": 5,
      "outputs": [
        {
          "output_type": "stream",
          "text": [
            "80000it [03:37, 367.20it/s]\n"
          ],
          "name": "stderr"
        }
      ]
    },
    {
      "cell_type": "code",
      "metadata": {
        "id": "YbhaS6uhUeKN",
        "colab_type": "code",
        "outputId": "c7d887f5-2374-48f3-b199-4c1de55aedc4",
        "colab": {
          "base_uri": "https://localhost:8080/",
          "height": 51
        }
      },
      "source": [
        "print(images.shape)\n",
        "print(labels.shape)"
      ],
      "execution_count": 6,
      "outputs": [
        {
          "output_type": "stream",
          "text": [
            "(80000, 10, 20, 6)\n",
            "(80000,)\n"
          ],
          "name": "stdout"
        }
      ]
    },
    {
      "cell_type": "markdown",
      "metadata": {
        "id": "XF--OclQRDCm",
        "colab_type": "text"
      },
      "source": [
        "# Data manipulation"
      ]
    },
    {
      "cell_type": "code",
      "metadata": {
        "id": "g0hwCNjCRKhe",
        "colab_type": "code",
        "outputId": "51e55c44-a1be-4097-ef87-5b525bd52e6a",
        "colab": {
          "base_uri": "https://localhost:8080/",
          "height": 271
        }
      },
      "source": [
        "signal = images[labels == 1]\n",
        "background = images[labels == 0]\n",
        "\n",
        "sig = np.random.randint(0, signal.shape[0])\n",
        "back = np.random.randint(0, background.shape[0])\n",
        "\n",
        "plt.figure(figsize=(20, 10))\n",
        "for i in range(6):\n",
        "  plt.subplot(1, 6, i+1)\n",
        "  plt.imshow(signal[sig][:, :, i])\n",
        "  plt.title(f'signal deltaT{i+1}')\n",
        "plt.show()\n",
        "plt.figure(figsize=(20, 10))\n",
        "for i in range(6):\n",
        "  plt.subplot(1, 6, i+1)\n",
        "  plt.imshow(background[back][:, :, i])\n",
        "  plt.title(f'background deltaT{i+1}')\n",
        "plt.show()"
      ],
      "execution_count": 7,
      "outputs": [
        {
          "output_type": "display_data",
          "data": {
            "image/png": "[encoded data removed]",
            "text/plain": [
              "<Figure size 1440x720 with 6 Axes>"
            ]
          },
          "metadata": {
            "tags": [],
            "needs_background": "light"
          }
        },
        {
          "output_type": "display_data",
          "data": {
            "image/png": "[encoded data removed]",
            "text/plain": [
              "<Figure size 1440x720 with 6 Axes>"
            ]
          },
          "metadata": {
            "tags": [],
            "needs_background": "light"
          }
        }
      ]
    },
    {
      "cell_type": "markdown",
      "metadata": {
        "id": "DgHBipXxRHht",
        "colab_type": "text"
      },
      "source": [
        "# NN training"
      ]
    },
    {
      "cell_type": "code",
      "metadata": {
        "id": "DRa_7ak-ie4V",
        "colab_type": "code",
        "colab": {}
      },
      "source": [
        "from sklearn.model_selection import train_test_split\n",
        "(X_train, X_test, Y_train, Y_test) = train_test_split(images, labels, test_size=0.1)"
      ],
      "execution_count": 0,
      "outputs": []
    },
    {
      "cell_type": "code",
      "metadata": {
        "id": "1HNW4jQof3gs",
        "colab_type": "code",
        "colab": {}
      },
      "source": [
        "import tensorflow as tf\n",
        "import tensorflow.keras as keras\n",
        "import tensorflow.keras.layers as layers"
      ],
      "execution_count": 0,
      "outputs": []
    },
    {
      "cell_type": "code",
      "metadata": {
        "id": "s54cJs52NuPA",
        "colab_type": "code",
        "outputId": "8d187489-a4a6-4daf-b906-161a60a5e487",
        "colab": {
          "base_uri": "https://localhost:8080/",
          "height": 51
        }
      },
      "source": [
        "print(X_train.shape)\n",
        "print(Y_train.shape)"
      ],
      "execution_count": 10,
      "outputs": [
        {
          "output_type": "stream",
          "text": [
            "(72000, 10, 20, 6)\n",
            "(72000,)\n"
          ],
          "name": "stdout"
        }
      ]
    },
    {
      "cell_type": "code",
      "metadata": {
        "id": "VhqGaI0ijHQA",
        "colab_type": "code",
        "outputId": "676f4d23-f1fb-4fe9-c06b-6c1ef3212468",
        "colab": {
          "base_uri": "https://localhost:8080/",
          "height": 765
        }
      },
      "source": [
        "IMG_SHAPE = (10, 20, 6)\n",
        "\n",
        "img_input = keras.Input(shape=IMG_SHAPE, name=\"D_Image_Input\")\n",
        "x = img_input\n",
        "\n",
        "# primo blocco Convoluzionale\n",
        "x = keras.layers.Conv2D(filters=16, kernel_size=(3, 5),name='Conv_1')(x)\n",
        "x = keras.layers.BatchNormalization()(x)\n",
        "x = keras.layers.ReLU(name='ReLU_1')(x)\n",
        "x = layers.Dropout(0.12, name=\"DropOut_1\")(x)\n",
        "\n",
        "# secondo blocco Convoluzionale\n",
        "x = keras.layers.Conv2D(filters=32, kernel_size=(3, 4), name='Conv_2')(x)\n",
        "x = keras.layers.BatchNormalization()(x)\n",
        "x = keras.layers.ReLU(name='ReLU_2')(x)\n",
        "x = layers.Dropout(0.12, name=\"DropOut_2\")(x)\n",
        "\n",
        "# terzo blocco Convoluzionale\n",
        "x = keras.layers.Conv2D(filters=64, kernel_size=(3, 3), name='Conv_3')(x)\n",
        "x = keras.layers.BatchNormalization()(x)\n",
        "x = keras.layers.ReLU(name='ReLU_3')(x)\n",
        "x = layers.Dropout(0.12, name=\"DropOut_3\")(x)\n",
        "\n",
        "x = keras.layers.Flatten(name='Flatten')(x)\n",
        "\n",
        "# layer densi\n",
        "x = keras.layers.Dense(64, name='Dense_1')(x)\n",
        "x = layers.Dropout(0.2, name=\"DropOut_4\")(x)\n",
        "x = keras.layers.ReLU(name='ReLU_dense_1')(x)\n",
        "\n",
        "outputs = keras.layers.Dense(1, activation='sigmoid', name='Output')(x)\n",
        "\n",
        "model = keras.Model(inputs=img_input, outputs=outputs, name='predictor')\n",
        "\n",
        "#printout il summary del modello\n",
        "model.summary()"
      ],
      "execution_count": 77,
      "outputs": [
        {
          "output_type": "stream",
          "text": [
            "Model: \"predictor\"\n",
            "_________________________________________________________________\n",
            "Layer (type)                 Output Shape              Param #   \n",
            "=================================================================\n",
            "D_Image_Input (InputLayer)   [(None, 10, 20, 6)]       0         \n",
            "_________________________________________________________________\n",
            "Conv_1 (Conv2D)              (None, 8, 16, 16)         1456      \n",
            "_________________________________________________________________\n",
            "batch_normalization_58 (Batc (None, 8, 16, 16)         64        \n",
            "_________________________________________________________________\n",
            "ReLU_1 (ReLU)                (None, 8, 16, 16)         0         \n",
            "_________________________________________________________________\n",
            "DropOut_1 (Dropout)          (None, 8, 16, 16)         0         \n",
            "_________________________________________________________________\n",
            "Conv_2 (Conv2D)              (None, 6, 13, 32)         6176      \n",
            "_________________________________________________________________\n",
            "batch_normalization_59 (Batc (None, 6, 13, 32)         128       \n",
            "_________________________________________________________________\n",
            "ReLU_2 (ReLU)                (None, 6, 13, 32)         0         \n",
            "_________________________________________________________________\n",
            "DropOut_2 (Dropout)          (None, 6, 13, 32)         0         \n",
            "_________________________________________________________________\n",
            "Conv_3 (Conv2D)              (None, 4, 11, 64)         18496     \n",
            "_________________________________________________________________\n",
            "batch_normalization_60 (Batc (None, 4, 11, 64)         256       \n",
            "_________________________________________________________________\n",
            "ReLU_3 (ReLU)                (None, 4, 11, 64)         0         \n",
            "_________________________________________________________________\n",
            "DropOut_3 (Dropout)          (None, 4, 11, 64)         0         \n",
            "_________________________________________________________________\n",
            "Flatten (Flatten)            (None, 2816)              0         \n",
            "_________________________________________________________________\n",
            "Dense_1 (Dense)              (None, 64)                180288    \n",
            "_________________________________________________________________\n",
            "DropOut_4 (Dropout)          (None, 64)                0         \n",
            "_________________________________________________________________\n",
            "ReLU_dense_1 (ReLU)          (None, 64)                0         \n",
            "_________________________________________________________________\n",
            "Output (Dense)               (None, 1)                 65        \n",
            "=================================================================\n",
            "Total params: 206,929\n",
            "Trainable params: 206,705\n",
            "Non-trainable params: 224\n",
            "_________________________________________________________________\n"
          ],
          "name": "stdout"
        }
      ]
    },
    {
      "cell_type": "code",
      "metadata": {
        "id": "9NcuImmijsQB",
        "colab_type": "code",
        "outputId": "5299f6f9-2616-42ed-a0cb-01d4727eb719",
        "colab": {
          "base_uri": "https://localhost:8080/",
          "height": 717
        }
      },
      "source": [
        "model_checkpoint = keras.callbacks.ModelCheckpoint(\n",
        "        filepath='cnn_best',\n",
        "        monitor='val_accuracy',\n",
        "        save_weights_only=True, \n",
        "        save_best_only=True,\n",
        "        save_freq='epoch')\n",
        "\n",
        "# metto tutte le callback in una lista\n",
        "callbacks = [ model_checkpoint ]     \n",
        "\n",
        "model.compile(loss=\"binary_crossentropy\", optimizer='adam', \n",
        "              metrics=[\"accuracy\",\n",
        "                       keras.metrics.AUC(name='auc')])\n",
        "history = model.fit(X_train, Y_train, validation_split=0.1, batch_size=256, \n",
        "          epochs=20, shuffle=True, verbose=1, callbacks=callbacks)"
      ],
      "execution_count": 78,
      "outputs": [
        {
          "output_type": "stream",
          "text": [
            "Epoch 1/20\n",
            "254/254 [==============================] - 4s 14ms/step - loss: 0.6561 - accuracy: 0.6005 - auc: 0.6491 - val_loss: 0.6369 - val_accuracy: 0.6250 - val_auc: 0.8043\n",
            "Epoch 2/20\n",
            "254/254 [==============================] - 3s 12ms/step - loss: 0.5459 - accuracy: 0.7315 - auc: 0.7995 - val_loss: 0.5945 - val_accuracy: 0.6737 - val_auc: 0.8250\n",
            "Epoch 3/20\n",
            "254/254 [==============================] - 3s 12ms/step - loss: 0.5237 - accuracy: 0.7491 - auc: 0.8185 - val_loss: 0.5017 - val_accuracy: 0.7608 - val_auc: 0.8380\n",
            "Epoch 4/20\n",
            "254/254 [==============================] - 3s 12ms/step - loss: 0.5137 - accuracy: 0.7552 - auc: 0.8261 - val_loss: 0.5112 - val_accuracy: 0.7489 - val_auc: 0.8405\n",
            "Epoch 5/20\n",
            "254/254 [==============================] - 3s 12ms/step - loss: 0.5091 - accuracy: 0.7588 - auc: 0.8298 - val_loss: 0.5341 - val_accuracy: 0.7353 - val_auc: 0.8456\n",
            "Epoch 6/20\n",
            "254/254 [==============================] - 3s 12ms/step - loss: 0.5046 - accuracy: 0.7629 - auc: 0.8336 - val_loss: 0.4880 - val_accuracy: 0.7739 - val_auc: 0.8456\n",
            "Epoch 7/20\n",
            "254/254 [==============================] - 3s 12ms/step - loss: 0.4972 - accuracy: 0.7663 - auc: 0.8383 - val_loss: 0.4833 - val_accuracy: 0.7713 - val_auc: 0.8500\n",
            "Epoch 8/20\n",
            "254/254 [==============================] - 3s 12ms/step - loss: 0.4929 - accuracy: 0.7692 - auc: 0.8415 - val_loss: 0.4843 - val_accuracy: 0.7793 - val_auc: 0.8501\n",
            "Epoch 9/20\n",
            "254/254 [==============================] - 3s 12ms/step - loss: 0.4907 - accuracy: 0.7706 - auc: 0.8435 - val_loss: 0.5190 - val_accuracy: 0.7481 - val_auc: 0.8497\n",
            "Epoch 10/20\n",
            "254/254 [==============================] - 3s 12ms/step - loss: 0.4877 - accuracy: 0.7718 - auc: 0.8454 - val_loss: 0.4813 - val_accuracy: 0.7760 - val_auc: 0.8503\n",
            "Epoch 11/20\n",
            "254/254 [==============================] - 3s 12ms/step - loss: 0.4833 - accuracy: 0.7739 - auc: 0.8483 - val_loss: 0.4831 - val_accuracy: 0.7743 - val_auc: 0.8490\n",
            "Epoch 12/20\n",
            "254/254 [==============================] - 3s 12ms/step - loss: 0.4787 - accuracy: 0.7753 - auc: 0.8519 - val_loss: 0.5015 - val_accuracy: 0.7604 - val_auc: 0.8516\n",
            "Epoch 13/20\n",
            "254/254 [==============================] - 3s 12ms/step - loss: 0.4754 - accuracy: 0.7778 - auc: 0.8539 - val_loss: 0.4840 - val_accuracy: 0.7763 - val_auc: 0.8497\n",
            "Epoch 14/20\n",
            "254/254 [==============================] - 3s 12ms/step - loss: 0.4693 - accuracy: 0.7810 - auc: 0.8583 - val_loss: 0.4854 - val_accuracy: 0.7731 - val_auc: 0.8493\n",
            "Epoch 15/20\n",
            "254/254 [==============================] - 3s 12ms/step - loss: 0.4674 - accuracy: 0.7823 - auc: 0.8595 - val_loss: 0.5213 - val_accuracy: 0.7501 - val_auc: 0.8515\n",
            "Epoch 16/20\n",
            "254/254 [==============================] - 3s 12ms/step - loss: 0.4637 - accuracy: 0.7839 - auc: 0.8620 - val_loss: 0.5184 - val_accuracy: 0.7433 - val_auc: 0.8503\n",
            "Epoch 17/20\n",
            "254/254 [==============================] - 3s 12ms/step - loss: 0.4630 - accuracy: 0.7841 - auc: 0.8626 - val_loss: 0.4886 - val_accuracy: 0.7713 - val_auc: 0.8505\n",
            "Epoch 18/20\n",
            "254/254 [==============================] - 3s 12ms/step - loss: 0.4565 - accuracy: 0.7880 - auc: 0.8665 - val_loss: 0.4883 - val_accuracy: 0.7722 - val_auc: 0.8492\n",
            "Epoch 19/20\n",
            "254/254 [==============================] - 3s 12ms/step - loss: 0.4554 - accuracy: 0.7875 - auc: 0.8674 - val_loss: 0.4861 - val_accuracy: 0.7769 - val_auc: 0.8478\n",
            "Epoch 20/20\n",
            "254/254 [==============================] - 3s 12ms/step - loss: 0.4517 - accuracy: 0.7901 - auc: 0.8699 - val_loss: 0.5773 - val_accuracy: 0.7186 - val_auc: 0.8500\n"
          ],
          "name": "stdout"
        }
      ]
    },
    {
      "cell_type": "code",
      "metadata": {
        "id": "LKPxyogFkLrY",
        "colab_type": "code",
        "outputId": "f9fe2392-62b8-4980-f792-2a0b67977443",
        "colab": {
          "base_uri": "https://localhost:8080/",
          "height": 512
        }
      },
      "source": [
        "accuracy=history.history['accuracy']\n",
        "val_accuracy=history.history['val_accuracy']\n",
        "\n",
        "AUC=history.history['auc']\n",
        "val_AUC=history.history['val_auc']\n",
        "\n",
        "epochs_range = range(1, len(accuracy) + 1)\n",
        "\n",
        "plt.figure(figsize=(10, 7))\n",
        "\n",
        "plt.subplot(1, 2, 1)\n",
        "plt.plot(epochs_range, accuracy, label='Training accuracy')\n",
        "plt.plot(epochs_range, val_accuracy, label='Validation accuracy')\n",
        "plt.legend(loc='upper right')\n",
        "plt.title('Training and Validation Loss')\n",
        "\n",
        "plt.subplot(1, 2, 2)\n",
        "plt.plot(epochs_range, AUC, label='Training AUC')\n",
        "plt.plot(epochs_range, val_AUC, label='Validation AUC')\n",
        "plt.legend(loc='upper right')\n",
        "plt.title('Training and Validation AUC')\n",
        "\n",
        "plt.show()\n",
        "\n",
        "model.load_weights('cnn_best')\n",
        "loss, accuracy, AUC = model.evaluate(X_test, Y_test, verbose=0)\n",
        "print('Results on test:')\n",
        "print(f'Loss:\\t\\t{loss:.3f}')\n",
        "print(f'Accuracy:\\t{accuracy:.3f}')\n",
        "print(f'AUC:\\t\\t{AUC:.3f}')"
      ],
      "execution_count": 79,
      "outputs": [
        {
          "output_type": "display_data",
          "data": {
            "image/png": "[encoded data removed]",
            "text/plain": [
              "<Figure size 720x504 with 2 Axes>"
            ]
          },
          "metadata": {
            "tags": [],
            "needs_background": "light"
          }
        },
        {
          "output_type": "stream",
          "text": [
            "Results on test:\n",
            "Loss:\t\t0.505\n",
            "Accuracy:\t0.761\n",
            "AUC:\t\t0.835\n"
          ],
          "name": "stdout"
        }
      ]
    }
  ]
}